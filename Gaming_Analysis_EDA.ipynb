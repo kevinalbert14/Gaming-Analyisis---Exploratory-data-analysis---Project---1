{
 "cells": [
  {
   "cell_type": "code",
   "execution_count": 1,
   "id": "b85c5303",
   "metadata": {},
   "outputs": [],
   "source": [
    "import pandas as pd\n",
    "import numpy as np\n",
    "import matplotlib.pyplot as plt\n",
    "import seaborn as sns"
   ]
  },
  {
   "cell_type": "markdown",
   "id": "cf4e637c",
   "metadata": {},
   "source": [
    "## Loading the data into Notebook"
   ]
  },
  {
   "cell_type": "code",
   "execution_count": 3,
   "id": "e60c08bc",
   "metadata": {},
   "outputs": [],
   "source": [
    "games=pd.read_csv(r'C:\\Users\\kevin\\Downloads\\GamingStudy_data.csv')"
   ]
  },
  {
   "cell_type": "markdown",
   "id": "a4a70a78",
   "metadata": {},
   "source": [
    "### Exploring the loaded data"
   ]
  },
  {
   "cell_type": "code",
   "execution_count": 4,
   "id": "ba2d8ecd",
   "metadata": {},
   "outputs": [
    {
     "data": {
      "text/html": [
       "<div>\n",
       "<style scoped>\n",
       "    .dataframe tbody tr th:only-of-type {\n",
       "        vertical-align: middle;\n",
       "    }\n",
       "\n",
       "    .dataframe tbody tr th {\n",
       "        vertical-align: top;\n",
       "    }\n",
       "\n",
       "    .dataframe thead th {\n",
       "        text-align: right;\n",
       "    }\n",
       "</style>\n",
       "<table border=\"1\" class=\"dataframe\">\n",
       "  <thead>\n",
       "    <tr style=\"text-align: right;\">\n",
       "      <th></th>\n",
       "      <th>S. No.</th>\n",
       "      <th>Timestamp</th>\n",
       "      <th>GAD1</th>\n",
       "      <th>GAD2</th>\n",
       "      <th>GAD3</th>\n",
       "      <th>GAD4</th>\n",
       "      <th>GAD5</th>\n",
       "      <th>GAD6</th>\n",
       "      <th>GAD7</th>\n",
       "      <th>GADE</th>\n",
       "      <th>...</th>\n",
       "      <th>Birthplace</th>\n",
       "      <th>Residence</th>\n",
       "      <th>Reference</th>\n",
       "      <th>Playstyle</th>\n",
       "      <th>accept</th>\n",
       "      <th>GAD_T</th>\n",
       "      <th>SWL_T</th>\n",
       "      <th>SPIN_T</th>\n",
       "      <th>Residence_ISO3</th>\n",
       "      <th>Birthplace_ISO3</th>\n",
       "    </tr>\n",
       "  </thead>\n",
       "  <tbody>\n",
       "    <tr>\n",
       "      <th>0</th>\n",
       "      <td>1</td>\n",
       "      <td>42052.00437</td>\n",
       "      <td>0</td>\n",
       "      <td>0</td>\n",
       "      <td>0</td>\n",
       "      <td>0</td>\n",
       "      <td>1</td>\n",
       "      <td>0</td>\n",
       "      <td>0</td>\n",
       "      <td>Not difficult at all</td>\n",
       "      <td>...</td>\n",
       "      <td>USA</td>\n",
       "      <td>USA</td>\n",
       "      <td>Reddit</td>\n",
       "      <td>Singleplayer</td>\n",
       "      <td>Accept</td>\n",
       "      <td>1</td>\n",
       "      <td>23</td>\n",
       "      <td>5.0</td>\n",
       "      <td>USA</td>\n",
       "      <td>USA</td>\n",
       "    </tr>\n",
       "    <tr>\n",
       "      <th>1</th>\n",
       "      <td>2</td>\n",
       "      <td>42052.00680</td>\n",
       "      <td>1</td>\n",
       "      <td>2</td>\n",
       "      <td>2</td>\n",
       "      <td>2</td>\n",
       "      <td>0</td>\n",
       "      <td>1</td>\n",
       "      <td>0</td>\n",
       "      <td>Somewhat difficult</td>\n",
       "      <td>...</td>\n",
       "      <td>USA</td>\n",
       "      <td>USA</td>\n",
       "      <td>Reddit</td>\n",
       "      <td>Multiplayer - online - with strangers</td>\n",
       "      <td>Accept</td>\n",
       "      <td>8</td>\n",
       "      <td>16</td>\n",
       "      <td>33.0</td>\n",
       "      <td>USA</td>\n",
       "      <td>USA</td>\n",
       "    </tr>\n",
       "    <tr>\n",
       "      <th>2</th>\n",
       "      <td>3</td>\n",
       "      <td>42052.03860</td>\n",
       "      <td>0</td>\n",
       "      <td>2</td>\n",
       "      <td>2</td>\n",
       "      <td>0</td>\n",
       "      <td>0</td>\n",
       "      <td>3</td>\n",
       "      <td>1</td>\n",
       "      <td>Not difficult at all</td>\n",
       "      <td>...</td>\n",
       "      <td>Germany</td>\n",
       "      <td>Germany</td>\n",
       "      <td>Reddit</td>\n",
       "      <td>Singleplayer</td>\n",
       "      <td>Accept</td>\n",
       "      <td>8</td>\n",
       "      <td>17</td>\n",
       "      <td>31.0</td>\n",
       "      <td>DEU</td>\n",
       "      <td>DEU</td>\n",
       "    </tr>\n",
       "    <tr>\n",
       "      <th>3</th>\n",
       "      <td>4</td>\n",
       "      <td>42052.06804</td>\n",
       "      <td>0</td>\n",
       "      <td>0</td>\n",
       "      <td>0</td>\n",
       "      <td>0</td>\n",
       "      <td>0</td>\n",
       "      <td>0</td>\n",
       "      <td>0</td>\n",
       "      <td>Not difficult at all</td>\n",
       "      <td>...</td>\n",
       "      <td>USA</td>\n",
       "      <td>USA</td>\n",
       "      <td>Reddit</td>\n",
       "      <td>Multiplayer - online - with online acquaintanc...</td>\n",
       "      <td>Accept</td>\n",
       "      <td>0</td>\n",
       "      <td>17</td>\n",
       "      <td>11.0</td>\n",
       "      <td>USA</td>\n",
       "      <td>USA</td>\n",
       "    </tr>\n",
       "    <tr>\n",
       "      <th>4</th>\n",
       "      <td>5</td>\n",
       "      <td>42052.08948</td>\n",
       "      <td>2</td>\n",
       "      <td>1</td>\n",
       "      <td>2</td>\n",
       "      <td>2</td>\n",
       "      <td>2</td>\n",
       "      <td>3</td>\n",
       "      <td>2</td>\n",
       "      <td>Very difficult</td>\n",
       "      <td>...</td>\n",
       "      <td>USA</td>\n",
       "      <td>South Korea</td>\n",
       "      <td>Reddit</td>\n",
       "      <td>Multiplayer - online - with strangers</td>\n",
       "      <td>Accept</td>\n",
       "      <td>14</td>\n",
       "      <td>14</td>\n",
       "      <td>13.0</td>\n",
       "      <td>KOR</td>\n",
       "      <td>USA</td>\n",
       "    </tr>\n",
       "    <tr>\n",
       "      <th>...</th>\n",
       "      <td>...</td>\n",
       "      <td>...</td>\n",
       "      <td>...</td>\n",
       "      <td>...</td>\n",
       "      <td>...</td>\n",
       "      <td>...</td>\n",
       "      <td>...</td>\n",
       "      <td>...</td>\n",
       "      <td>...</td>\n",
       "      <td>...</td>\n",
       "      <td>...</td>\n",
       "      <td>...</td>\n",
       "      <td>...</td>\n",
       "      <td>...</td>\n",
       "      <td>...</td>\n",
       "      <td>...</td>\n",
       "      <td>...</td>\n",
       "      <td>...</td>\n",
       "      <td>...</td>\n",
       "      <td>...</td>\n",
       "      <td>...</td>\n",
       "    </tr>\n",
       "    <tr>\n",
       "      <th>13459</th>\n",
       "      <td>14246</td>\n",
       "      <td>42057.75678</td>\n",
       "      <td>1</td>\n",
       "      <td>0</td>\n",
       "      <td>0</td>\n",
       "      <td>1</td>\n",
       "      <td>0</td>\n",
       "      <td>1</td>\n",
       "      <td>1</td>\n",
       "      <td>Not difficult at all</td>\n",
       "      <td>...</td>\n",
       "      <td>France</td>\n",
       "      <td>France</td>\n",
       "      <td>Reddit</td>\n",
       "      <td>Multiplayer - online - with strangers</td>\n",
       "      <td>Accept</td>\n",
       "      <td>4</td>\n",
       "      <td>28</td>\n",
       "      <td>7.0</td>\n",
       "      <td>FRA</td>\n",
       "      <td>FRA</td>\n",
       "    </tr>\n",
       "    <tr>\n",
       "      <th>13460</th>\n",
       "      <td>14247</td>\n",
       "      <td>42057.81185</td>\n",
       "      <td>3</td>\n",
       "      <td>3</td>\n",
       "      <td>3</td>\n",
       "      <td>3</td>\n",
       "      <td>2</td>\n",
       "      <td>3</td>\n",
       "      <td>3</td>\n",
       "      <td>Extremely difficult</td>\n",
       "      <td>...</td>\n",
       "      <td>USA</td>\n",
       "      <td>USA</td>\n",
       "      <td>Reddit</td>\n",
       "      <td>Multiplayer - online - with strangers</td>\n",
       "      <td>Accept</td>\n",
       "      <td>20</td>\n",
       "      <td>23</td>\n",
       "      <td>25.0</td>\n",
       "      <td>USA</td>\n",
       "      <td>USA</td>\n",
       "    </tr>\n",
       "    <tr>\n",
       "      <th>13461</th>\n",
       "      <td>14248</td>\n",
       "      <td>42058.16964</td>\n",
       "      <td>0</td>\n",
       "      <td>0</td>\n",
       "      <td>0</td>\n",
       "      <td>0</td>\n",
       "      <td>0</td>\n",
       "      <td>0</td>\n",
       "      <td>0</td>\n",
       "      <td>Not difficult at all</td>\n",
       "      <td>...</td>\n",
       "      <td>Norway</td>\n",
       "      <td>Norway</td>\n",
       "      <td>Reddit</td>\n",
       "      <td>Multiplayer - online - with real life friends</td>\n",
       "      <td>Accept</td>\n",
       "      <td>0</td>\n",
       "      <td>32</td>\n",
       "      <td>10.0</td>\n",
       "      <td>NOR</td>\n",
       "      <td>NOR</td>\n",
       "    </tr>\n",
       "    <tr>\n",
       "      <th>13462</th>\n",
       "      <td>14249</td>\n",
       "      <td>42058.24420</td>\n",
       "      <td>3</td>\n",
       "      <td>2</td>\n",
       "      <td>1</td>\n",
       "      <td>3</td>\n",
       "      <td>0</td>\n",
       "      <td>1</td>\n",
       "      <td>3</td>\n",
       "      <td>Somewhat difficult</td>\n",
       "      <td>...</td>\n",
       "      <td>Canada</td>\n",
       "      <td>Canada</td>\n",
       "      <td>Reddit</td>\n",
       "      <td>Singleplayer</td>\n",
       "      <td>Accept</td>\n",
       "      <td>13</td>\n",
       "      <td>16</td>\n",
       "      <td>32.0</td>\n",
       "      <td>CAN</td>\n",
       "      <td>CAN</td>\n",
       "    </tr>\n",
       "    <tr>\n",
       "      <th>13463</th>\n",
       "      <td>14250</td>\n",
       "      <td>42058.36375</td>\n",
       "      <td>1</td>\n",
       "      <td>1</td>\n",
       "      <td>0</td>\n",
       "      <td>0</td>\n",
       "      <td>0</td>\n",
       "      <td>0</td>\n",
       "      <td>0</td>\n",
       "      <td>Somewhat difficult</td>\n",
       "      <td>...</td>\n",
       "      <td>Canada</td>\n",
       "      <td>Canada</td>\n",
       "      <td>Reddit</td>\n",
       "      <td>Multiplayer - online - with strangers</td>\n",
       "      <td>Accept</td>\n",
       "      <td>2</td>\n",
       "      <td>25</td>\n",
       "      <td>14.0</td>\n",
       "      <td>CAN</td>\n",
       "      <td>CAN</td>\n",
       "    </tr>\n",
       "  </tbody>\n",
       "</table>\n",
       "<p>13464 rows × 55 columns</p>\n",
       "</div>"
      ],
      "text/plain": [
       "       S. No.    Timestamp  GAD1  GAD2  GAD3  GAD4  GAD5  GAD6  GAD7  \\\n",
       "0           1  42052.00437     0     0     0     0     1     0     0   \n",
       "1           2  42052.00680     1     2     2     2     0     1     0   \n",
       "2           3  42052.03860     0     2     2     0     0     3     1   \n",
       "3           4  42052.06804     0     0     0     0     0     0     0   \n",
       "4           5  42052.08948     2     1     2     2     2     3     2   \n",
       "...       ...          ...   ...   ...   ...   ...   ...   ...   ...   \n",
       "13459   14246  42057.75678     1     0     0     1     0     1     1   \n",
       "13460   14247  42057.81185     3     3     3     3     2     3     3   \n",
       "13461   14248  42058.16964     0     0     0     0     0     0     0   \n",
       "13462   14249  42058.24420     3     2     1     3     0     1     3   \n",
       "13463   14250  42058.36375     1     1     0     0     0     0     0   \n",
       "\n",
       "                       GADE  ...  Birthplace    Residence  Reference  \\\n",
       "0      Not difficult at all  ...         USA          USA     Reddit   \n",
       "1        Somewhat difficult  ...         USA          USA     Reddit   \n",
       "2      Not difficult at all  ...     Germany      Germany     Reddit   \n",
       "3      Not difficult at all  ...         USA          USA     Reddit   \n",
       "4            Very difficult  ...         USA  South Korea     Reddit   \n",
       "...                     ...  ...         ...          ...        ...   \n",
       "13459  Not difficult at all  ...      France       France     Reddit   \n",
       "13460   Extremely difficult  ...         USA          USA     Reddit   \n",
       "13461  Not difficult at all  ...      Norway       Norway     Reddit   \n",
       "13462    Somewhat difficult  ...      Canada       Canada     Reddit   \n",
       "13463    Somewhat difficult  ...      Canada       Canada     Reddit   \n",
       "\n",
       "                                               Playstyle  accept GAD_T SWL_T  \\\n",
       "0                                           Singleplayer  Accept     1    23   \n",
       "1                  Multiplayer - online - with strangers  Accept     8    16   \n",
       "2                                           Singleplayer  Accept     8    17   \n",
       "3      Multiplayer - online - with online acquaintanc...  Accept     0    17   \n",
       "4                  Multiplayer - online - with strangers  Accept    14    14   \n",
       "...                                                  ...     ...   ...   ...   \n",
       "13459              Multiplayer - online - with strangers  Accept     4    28   \n",
       "13460              Multiplayer - online - with strangers  Accept    20    23   \n",
       "13461      Multiplayer - online - with real life friends  Accept     0    32   \n",
       "13462                                       Singleplayer  Accept    13    16   \n",
       "13463              Multiplayer - online - with strangers  Accept     2    25   \n",
       "\n",
       "       SPIN_T Residence_ISO3 Birthplace_ISO3  \n",
       "0         5.0            USA             USA  \n",
       "1        33.0            USA             USA  \n",
       "2        31.0            DEU             DEU  \n",
       "3        11.0            USA             USA  \n",
       "4        13.0            KOR             USA  \n",
       "...       ...            ...             ...  \n",
       "13459     7.0            FRA             FRA  \n",
       "13460    25.0            USA             USA  \n",
       "13461    10.0            NOR             NOR  \n",
       "13462    32.0            CAN             CAN  \n",
       "13463    14.0            CAN             CAN  \n",
       "\n",
       "[13464 rows x 55 columns]"
      ]
     },
     "execution_count": 4,
     "metadata": {},
     "output_type": "execute_result"
    }
   ],
   "source": [
    "games"
   ]
  },
  {
   "cell_type": "markdown",
   "id": "b228ceeb",
   "metadata": {},
   "source": [
    "### Viewing the first 5 entries using head() function"
   ]
  },
  {
   "cell_type": "code",
   "execution_count": 5,
   "id": "381065ef",
   "metadata": {},
   "outputs": [
    {
     "data": {
      "text/html": [
       "<div>\n",
       "<style scoped>\n",
       "    .dataframe tbody tr th:only-of-type {\n",
       "        vertical-align: middle;\n",
       "    }\n",
       "\n",
       "    .dataframe tbody tr th {\n",
       "        vertical-align: top;\n",
       "    }\n",
       "\n",
       "    .dataframe thead th {\n",
       "        text-align: right;\n",
       "    }\n",
       "</style>\n",
       "<table border=\"1\" class=\"dataframe\">\n",
       "  <thead>\n",
       "    <tr style=\"text-align: right;\">\n",
       "      <th></th>\n",
       "      <th>S. No.</th>\n",
       "      <th>Timestamp</th>\n",
       "      <th>GAD1</th>\n",
       "      <th>GAD2</th>\n",
       "      <th>GAD3</th>\n",
       "      <th>GAD4</th>\n",
       "      <th>GAD5</th>\n",
       "      <th>GAD6</th>\n",
       "      <th>GAD7</th>\n",
       "      <th>GADE</th>\n",
       "      <th>...</th>\n",
       "      <th>Birthplace</th>\n",
       "      <th>Residence</th>\n",
       "      <th>Reference</th>\n",
       "      <th>Playstyle</th>\n",
       "      <th>accept</th>\n",
       "      <th>GAD_T</th>\n",
       "      <th>SWL_T</th>\n",
       "      <th>SPIN_T</th>\n",
       "      <th>Residence_ISO3</th>\n",
       "      <th>Birthplace_ISO3</th>\n",
       "    </tr>\n",
       "  </thead>\n",
       "  <tbody>\n",
       "    <tr>\n",
       "      <th>0</th>\n",
       "      <td>1</td>\n",
       "      <td>42052.00437</td>\n",
       "      <td>0</td>\n",
       "      <td>0</td>\n",
       "      <td>0</td>\n",
       "      <td>0</td>\n",
       "      <td>1</td>\n",
       "      <td>0</td>\n",
       "      <td>0</td>\n",
       "      <td>Not difficult at all</td>\n",
       "      <td>...</td>\n",
       "      <td>USA</td>\n",
       "      <td>USA</td>\n",
       "      <td>Reddit</td>\n",
       "      <td>Singleplayer</td>\n",
       "      <td>Accept</td>\n",
       "      <td>1</td>\n",
       "      <td>23</td>\n",
       "      <td>5.0</td>\n",
       "      <td>USA</td>\n",
       "      <td>USA</td>\n",
       "    </tr>\n",
       "    <tr>\n",
       "      <th>1</th>\n",
       "      <td>2</td>\n",
       "      <td>42052.00680</td>\n",
       "      <td>1</td>\n",
       "      <td>2</td>\n",
       "      <td>2</td>\n",
       "      <td>2</td>\n",
       "      <td>0</td>\n",
       "      <td>1</td>\n",
       "      <td>0</td>\n",
       "      <td>Somewhat difficult</td>\n",
       "      <td>...</td>\n",
       "      <td>USA</td>\n",
       "      <td>USA</td>\n",
       "      <td>Reddit</td>\n",
       "      <td>Multiplayer - online - with strangers</td>\n",
       "      <td>Accept</td>\n",
       "      <td>8</td>\n",
       "      <td>16</td>\n",
       "      <td>33.0</td>\n",
       "      <td>USA</td>\n",
       "      <td>USA</td>\n",
       "    </tr>\n",
       "    <tr>\n",
       "      <th>2</th>\n",
       "      <td>3</td>\n",
       "      <td>42052.03860</td>\n",
       "      <td>0</td>\n",
       "      <td>2</td>\n",
       "      <td>2</td>\n",
       "      <td>0</td>\n",
       "      <td>0</td>\n",
       "      <td>3</td>\n",
       "      <td>1</td>\n",
       "      <td>Not difficult at all</td>\n",
       "      <td>...</td>\n",
       "      <td>Germany</td>\n",
       "      <td>Germany</td>\n",
       "      <td>Reddit</td>\n",
       "      <td>Singleplayer</td>\n",
       "      <td>Accept</td>\n",
       "      <td>8</td>\n",
       "      <td>17</td>\n",
       "      <td>31.0</td>\n",
       "      <td>DEU</td>\n",
       "      <td>DEU</td>\n",
       "    </tr>\n",
       "    <tr>\n",
       "      <th>3</th>\n",
       "      <td>4</td>\n",
       "      <td>42052.06804</td>\n",
       "      <td>0</td>\n",
       "      <td>0</td>\n",
       "      <td>0</td>\n",
       "      <td>0</td>\n",
       "      <td>0</td>\n",
       "      <td>0</td>\n",
       "      <td>0</td>\n",
       "      <td>Not difficult at all</td>\n",
       "      <td>...</td>\n",
       "      <td>USA</td>\n",
       "      <td>USA</td>\n",
       "      <td>Reddit</td>\n",
       "      <td>Multiplayer - online - with online acquaintanc...</td>\n",
       "      <td>Accept</td>\n",
       "      <td>0</td>\n",
       "      <td>17</td>\n",
       "      <td>11.0</td>\n",
       "      <td>USA</td>\n",
       "      <td>USA</td>\n",
       "    </tr>\n",
       "    <tr>\n",
       "      <th>4</th>\n",
       "      <td>5</td>\n",
       "      <td>42052.08948</td>\n",
       "      <td>2</td>\n",
       "      <td>1</td>\n",
       "      <td>2</td>\n",
       "      <td>2</td>\n",
       "      <td>2</td>\n",
       "      <td>3</td>\n",
       "      <td>2</td>\n",
       "      <td>Very difficult</td>\n",
       "      <td>...</td>\n",
       "      <td>USA</td>\n",
       "      <td>South Korea</td>\n",
       "      <td>Reddit</td>\n",
       "      <td>Multiplayer - online - with strangers</td>\n",
       "      <td>Accept</td>\n",
       "      <td>14</td>\n",
       "      <td>14</td>\n",
       "      <td>13.0</td>\n",
       "      <td>KOR</td>\n",
       "      <td>USA</td>\n",
       "    </tr>\n",
       "  </tbody>\n",
       "</table>\n",
       "<p>5 rows × 55 columns</p>\n",
       "</div>"
      ],
      "text/plain": [
       "   S. No.    Timestamp  GAD1  GAD2  GAD3  GAD4  GAD5  GAD6  GAD7  \\\n",
       "0       1  42052.00437     0     0     0     0     1     0     0   \n",
       "1       2  42052.00680     1     2     2     2     0     1     0   \n",
       "2       3  42052.03860     0     2     2     0     0     3     1   \n",
       "3       4  42052.06804     0     0     0     0     0     0     0   \n",
       "4       5  42052.08948     2     1     2     2     2     3     2   \n",
       "\n",
       "                   GADE  ...  Birthplace    Residence  Reference  \\\n",
       "0  Not difficult at all  ...         USA          USA     Reddit   \n",
       "1    Somewhat difficult  ...         USA          USA     Reddit   \n",
       "2  Not difficult at all  ...     Germany      Germany     Reddit   \n",
       "3  Not difficult at all  ...         USA          USA     Reddit   \n",
       "4        Very difficult  ...         USA  South Korea     Reddit   \n",
       "\n",
       "                                           Playstyle  accept GAD_T SWL_T  \\\n",
       "0                                       Singleplayer  Accept     1    23   \n",
       "1              Multiplayer - online - with strangers  Accept     8    16   \n",
       "2                                       Singleplayer  Accept     8    17   \n",
       "3  Multiplayer - online - with online acquaintanc...  Accept     0    17   \n",
       "4              Multiplayer - online - with strangers  Accept    14    14   \n",
       "\n",
       "   SPIN_T Residence_ISO3 Birthplace_ISO3  \n",
       "0     5.0            USA             USA  \n",
       "1    33.0            USA             USA  \n",
       "2    31.0            DEU             DEU  \n",
       "3    11.0            USA             USA  \n",
       "4    13.0            KOR             USA  \n",
       "\n",
       "[5 rows x 55 columns]"
      ]
     },
     "execution_count": 5,
     "metadata": {},
     "output_type": "execute_result"
    }
   ],
   "source": [
    "games.head()"
   ]
  },
  {
   "cell_type": "markdown",
   "id": "5d356874",
   "metadata": {},
   "source": [
    "### Viewing the last 5 entries using tail() function"
   ]
  },
  {
   "cell_type": "code",
   "execution_count": 6,
   "id": "8f5c59b4",
   "metadata": {},
   "outputs": [
    {
     "data": {
      "text/html": [
       "<div>\n",
       "<style scoped>\n",
       "    .dataframe tbody tr th:only-of-type {\n",
       "        vertical-align: middle;\n",
       "    }\n",
       "\n",
       "    .dataframe tbody tr th {\n",
       "        vertical-align: top;\n",
       "    }\n",
       "\n",
       "    .dataframe thead th {\n",
       "        text-align: right;\n",
       "    }\n",
       "</style>\n",
       "<table border=\"1\" class=\"dataframe\">\n",
       "  <thead>\n",
       "    <tr style=\"text-align: right;\">\n",
       "      <th></th>\n",
       "      <th>S. No.</th>\n",
       "      <th>Timestamp</th>\n",
       "      <th>GAD1</th>\n",
       "      <th>GAD2</th>\n",
       "      <th>GAD3</th>\n",
       "      <th>GAD4</th>\n",
       "      <th>GAD5</th>\n",
       "      <th>GAD6</th>\n",
       "      <th>GAD7</th>\n",
       "      <th>GADE</th>\n",
       "      <th>...</th>\n",
       "      <th>Birthplace</th>\n",
       "      <th>Residence</th>\n",
       "      <th>Reference</th>\n",
       "      <th>Playstyle</th>\n",
       "      <th>accept</th>\n",
       "      <th>GAD_T</th>\n",
       "      <th>SWL_T</th>\n",
       "      <th>SPIN_T</th>\n",
       "      <th>Residence_ISO3</th>\n",
       "      <th>Birthplace_ISO3</th>\n",
       "    </tr>\n",
       "  </thead>\n",
       "  <tbody>\n",
       "    <tr>\n",
       "      <th>13459</th>\n",
       "      <td>14246</td>\n",
       "      <td>42057.75678</td>\n",
       "      <td>1</td>\n",
       "      <td>0</td>\n",
       "      <td>0</td>\n",
       "      <td>1</td>\n",
       "      <td>0</td>\n",
       "      <td>1</td>\n",
       "      <td>1</td>\n",
       "      <td>Not difficult at all</td>\n",
       "      <td>...</td>\n",
       "      <td>France</td>\n",
       "      <td>France</td>\n",
       "      <td>Reddit</td>\n",
       "      <td>Multiplayer - online - with strangers</td>\n",
       "      <td>Accept</td>\n",
       "      <td>4</td>\n",
       "      <td>28</td>\n",
       "      <td>7.0</td>\n",
       "      <td>FRA</td>\n",
       "      <td>FRA</td>\n",
       "    </tr>\n",
       "    <tr>\n",
       "      <th>13460</th>\n",
       "      <td>14247</td>\n",
       "      <td>42057.81185</td>\n",
       "      <td>3</td>\n",
       "      <td>3</td>\n",
       "      <td>3</td>\n",
       "      <td>3</td>\n",
       "      <td>2</td>\n",
       "      <td>3</td>\n",
       "      <td>3</td>\n",
       "      <td>Extremely difficult</td>\n",
       "      <td>...</td>\n",
       "      <td>USA</td>\n",
       "      <td>USA</td>\n",
       "      <td>Reddit</td>\n",
       "      <td>Multiplayer - online - with strangers</td>\n",
       "      <td>Accept</td>\n",
       "      <td>20</td>\n",
       "      <td>23</td>\n",
       "      <td>25.0</td>\n",
       "      <td>USA</td>\n",
       "      <td>USA</td>\n",
       "    </tr>\n",
       "    <tr>\n",
       "      <th>13461</th>\n",
       "      <td>14248</td>\n",
       "      <td>42058.16964</td>\n",
       "      <td>0</td>\n",
       "      <td>0</td>\n",
       "      <td>0</td>\n",
       "      <td>0</td>\n",
       "      <td>0</td>\n",
       "      <td>0</td>\n",
       "      <td>0</td>\n",
       "      <td>Not difficult at all</td>\n",
       "      <td>...</td>\n",
       "      <td>Norway</td>\n",
       "      <td>Norway</td>\n",
       "      <td>Reddit</td>\n",
       "      <td>Multiplayer - online - with real life friends</td>\n",
       "      <td>Accept</td>\n",
       "      <td>0</td>\n",
       "      <td>32</td>\n",
       "      <td>10.0</td>\n",
       "      <td>NOR</td>\n",
       "      <td>NOR</td>\n",
       "    </tr>\n",
       "    <tr>\n",
       "      <th>13462</th>\n",
       "      <td>14249</td>\n",
       "      <td>42058.24420</td>\n",
       "      <td>3</td>\n",
       "      <td>2</td>\n",
       "      <td>1</td>\n",
       "      <td>3</td>\n",
       "      <td>0</td>\n",
       "      <td>1</td>\n",
       "      <td>3</td>\n",
       "      <td>Somewhat difficult</td>\n",
       "      <td>...</td>\n",
       "      <td>Canada</td>\n",
       "      <td>Canada</td>\n",
       "      <td>Reddit</td>\n",
       "      <td>Singleplayer</td>\n",
       "      <td>Accept</td>\n",
       "      <td>13</td>\n",
       "      <td>16</td>\n",
       "      <td>32.0</td>\n",
       "      <td>CAN</td>\n",
       "      <td>CAN</td>\n",
       "    </tr>\n",
       "    <tr>\n",
       "      <th>13463</th>\n",
       "      <td>14250</td>\n",
       "      <td>42058.36375</td>\n",
       "      <td>1</td>\n",
       "      <td>1</td>\n",
       "      <td>0</td>\n",
       "      <td>0</td>\n",
       "      <td>0</td>\n",
       "      <td>0</td>\n",
       "      <td>0</td>\n",
       "      <td>Somewhat difficult</td>\n",
       "      <td>...</td>\n",
       "      <td>Canada</td>\n",
       "      <td>Canada</td>\n",
       "      <td>Reddit</td>\n",
       "      <td>Multiplayer - online - with strangers</td>\n",
       "      <td>Accept</td>\n",
       "      <td>2</td>\n",
       "      <td>25</td>\n",
       "      <td>14.0</td>\n",
       "      <td>CAN</td>\n",
       "      <td>CAN</td>\n",
       "    </tr>\n",
       "  </tbody>\n",
       "</table>\n",
       "<p>5 rows × 55 columns</p>\n",
       "</div>"
      ],
      "text/plain": [
       "       S. No.    Timestamp  GAD1  GAD2  GAD3  GAD4  GAD5  GAD6  GAD7  \\\n",
       "13459   14246  42057.75678     1     0     0     1     0     1     1   \n",
       "13460   14247  42057.81185     3     3     3     3     2     3     3   \n",
       "13461   14248  42058.16964     0     0     0     0     0     0     0   \n",
       "13462   14249  42058.24420     3     2     1     3     0     1     3   \n",
       "13463   14250  42058.36375     1     1     0     0     0     0     0   \n",
       "\n",
       "                       GADE  ...  Birthplace  Residence  Reference  \\\n",
       "13459  Not difficult at all  ...      France     France     Reddit   \n",
       "13460   Extremely difficult  ...         USA        USA     Reddit   \n",
       "13461  Not difficult at all  ...      Norway     Norway     Reddit   \n",
       "13462    Somewhat difficult  ...      Canada     Canada     Reddit   \n",
       "13463    Somewhat difficult  ...      Canada     Canada     Reddit   \n",
       "\n",
       "                                           Playstyle  accept GAD_T SWL_T  \\\n",
       "13459          Multiplayer - online - with strangers  Accept     4    28   \n",
       "13460          Multiplayer - online - with strangers  Accept    20    23   \n",
       "13461  Multiplayer - online - with real life friends  Accept     0    32   \n",
       "13462                                   Singleplayer  Accept    13    16   \n",
       "13463          Multiplayer - online - with strangers  Accept     2    25   \n",
       "\n",
       "       SPIN_T Residence_ISO3 Birthplace_ISO3  \n",
       "13459     7.0            FRA             FRA  \n",
       "13460    25.0            USA             USA  \n",
       "13461    10.0            NOR             NOR  \n",
       "13462    32.0            CAN             CAN  \n",
       "13463    14.0            CAN             CAN  \n",
       "\n",
       "[5 rows x 55 columns]"
      ]
     },
     "execution_count": 6,
     "metadata": {},
     "output_type": "execute_result"
    }
   ],
   "source": [
    "games.tail()"
   ]
  },
  {
   "cell_type": "markdown",
   "id": "23b3f03b",
   "metadata": {},
   "source": [
    "# Filtering required attributes"
   ]
  },
  {
   "cell_type": "markdown",
   "id": "9860f48c",
   "metadata": {},
   "source": [
    "### Columns in which this analysis will be mainly focused on"
   ]
  },
  {
   "cell_type": "markdown",
   "id": "f8186b98",
   "metadata": {},
   "source": [
    "### Finding the type of variable"
   ]
  },
  {
   "cell_type": "code",
   "execution_count": 7,
   "id": "48a2cffa",
   "metadata": {},
   "outputs": [
    {
     "data": {
      "text/plain": [
       "pandas.core.frame.DataFrame"
      ]
     },
     "execution_count": 7,
     "metadata": {},
     "output_type": "execute_result"
    }
   ],
   "source": [
    "type(games)"
   ]
  },
  {
   "cell_type": "markdown",
   "id": "8e537cf4",
   "metadata": {},
   "source": [
    "### Loading the required data into the variable"
   ]
  },
  {
   "cell_type": "code",
   "execution_count": 8,
   "id": "dac8d0d7",
   "metadata": {},
   "outputs": [],
   "source": [
    "data = games[['Platform','Hours','Game','Age','Gender','Degree','Work','GAD_T','SWL_T','SPIN_T','Residence','Playstyle']]"
   ]
  },
  {
   "cell_type": "code",
   "execution_count": 9,
   "id": "46d82ea5",
   "metadata": {},
   "outputs": [
    {
     "data": {
      "text/html": [
       "<div>\n",
       "<style scoped>\n",
       "    .dataframe tbody tr th:only-of-type {\n",
       "        vertical-align: middle;\n",
       "    }\n",
       "\n",
       "    .dataframe tbody tr th {\n",
       "        vertical-align: top;\n",
       "    }\n",
       "\n",
       "    .dataframe thead th {\n",
       "        text-align: right;\n",
       "    }\n",
       "</style>\n",
       "<table border=\"1\" class=\"dataframe\">\n",
       "  <thead>\n",
       "    <tr style=\"text-align: right;\">\n",
       "      <th></th>\n",
       "      <th>Platform</th>\n",
       "      <th>Hours</th>\n",
       "      <th>Game</th>\n",
       "      <th>Age</th>\n",
       "      <th>Gender</th>\n",
       "      <th>Degree</th>\n",
       "      <th>Work</th>\n",
       "      <th>GAD_T</th>\n",
       "      <th>SWL_T</th>\n",
       "      <th>SPIN_T</th>\n",
       "      <th>Residence</th>\n",
       "      <th>Playstyle</th>\n",
       "    </tr>\n",
       "  </thead>\n",
       "  <tbody>\n",
       "    <tr>\n",
       "      <th>0</th>\n",
       "      <td>Console (PS, Xbox, ...)</td>\n",
       "      <td>15.0</td>\n",
       "      <td>Skyrim</td>\n",
       "      <td>25</td>\n",
       "      <td>Male</td>\n",
       "      <td>Bachelor�(or equivalent)</td>\n",
       "      <td>Unemployed / between jobs</td>\n",
       "      <td>1</td>\n",
       "      <td>23</td>\n",
       "      <td>5.0</td>\n",
       "      <td>USA</td>\n",
       "      <td>Singleplayer</td>\n",
       "    </tr>\n",
       "    <tr>\n",
       "      <th>1</th>\n",
       "      <td>PC</td>\n",
       "      <td>8.0</td>\n",
       "      <td>Other</td>\n",
       "      <td>41</td>\n",
       "      <td>Male</td>\n",
       "      <td>Bachelor�(or equivalent)</td>\n",
       "      <td>Unemployed / between jobs</td>\n",
       "      <td>8</td>\n",
       "      <td>16</td>\n",
       "      <td>33.0</td>\n",
       "      <td>USA</td>\n",
       "      <td>Multiplayer - online - with strangers</td>\n",
       "    </tr>\n",
       "    <tr>\n",
       "      <th>2</th>\n",
       "      <td>PC</td>\n",
       "      <td>0.0</td>\n",
       "      <td>Other</td>\n",
       "      <td>32</td>\n",
       "      <td>Female</td>\n",
       "      <td>Bachelor�(or equivalent)</td>\n",
       "      <td>Employed</td>\n",
       "      <td>8</td>\n",
       "      <td>17</td>\n",
       "      <td>31.0</td>\n",
       "      <td>Germany</td>\n",
       "      <td>Singleplayer</td>\n",
       "    </tr>\n",
       "    <tr>\n",
       "      <th>3</th>\n",
       "      <td>PC</td>\n",
       "      <td>20.0</td>\n",
       "      <td>Other</td>\n",
       "      <td>28</td>\n",
       "      <td>Male</td>\n",
       "      <td>Bachelor�(or equivalent)</td>\n",
       "      <td>Employed</td>\n",
       "      <td>0</td>\n",
       "      <td>17</td>\n",
       "      <td>11.0</td>\n",
       "      <td>USA</td>\n",
       "      <td>Multiplayer - online - with online acquaintanc...</td>\n",
       "    </tr>\n",
       "    <tr>\n",
       "      <th>4</th>\n",
       "      <td>Console (PS, Xbox, ...)</td>\n",
       "      <td>20.0</td>\n",
       "      <td>Other</td>\n",
       "      <td>19</td>\n",
       "      <td>Male</td>\n",
       "      <td>High school diploma (or equivalent)</td>\n",
       "      <td>Employed</td>\n",
       "      <td>14</td>\n",
       "      <td>14</td>\n",
       "      <td>13.0</td>\n",
       "      <td>South Korea</td>\n",
       "      <td>Multiplayer - online - with strangers</td>\n",
       "    </tr>\n",
       "    <tr>\n",
       "      <th>...</th>\n",
       "      <td>...</td>\n",
       "      <td>...</td>\n",
       "      <td>...</td>\n",
       "      <td>...</td>\n",
       "      <td>...</td>\n",
       "      <td>...</td>\n",
       "      <td>...</td>\n",
       "      <td>...</td>\n",
       "      <td>...</td>\n",
       "      <td>...</td>\n",
       "      <td>...</td>\n",
       "      <td>...</td>\n",
       "    </tr>\n",
       "    <tr>\n",
       "      <th>13459</th>\n",
       "      <td>Console (PS, Xbox, ...)</td>\n",
       "      <td>40.0</td>\n",
       "      <td>Other</td>\n",
       "      <td>22</td>\n",
       "      <td>Male</td>\n",
       "      <td>Master�(or equivalent)</td>\n",
       "      <td>Student at college / university</td>\n",
       "      <td>4</td>\n",
       "      <td>28</td>\n",
       "      <td>7.0</td>\n",
       "      <td>France</td>\n",
       "      <td>Multiplayer - online - with strangers</td>\n",
       "    </tr>\n",
       "    <tr>\n",
       "      <th>13460</th>\n",
       "      <td>PC</td>\n",
       "      <td>20.0</td>\n",
       "      <td>League of Legends</td>\n",
       "      <td>20</td>\n",
       "      <td>Female</td>\n",
       "      <td>High school diploma (or equivalent)</td>\n",
       "      <td>Student at college / university</td>\n",
       "      <td>20</td>\n",
       "      <td>23</td>\n",
       "      <td>25.0</td>\n",
       "      <td>USA</td>\n",
       "      <td>Multiplayer - online - with strangers</td>\n",
       "    </tr>\n",
       "    <tr>\n",
       "      <th>13461</th>\n",
       "      <td>PC</td>\n",
       "      <td>20.0</td>\n",
       "      <td>Starcraft 2</td>\n",
       "      <td>19</td>\n",
       "      <td>Male</td>\n",
       "      <td>High school diploma (or equivalent)</td>\n",
       "      <td>Student at college / university</td>\n",
       "      <td>0</td>\n",
       "      <td>32</td>\n",
       "      <td>10.0</td>\n",
       "      <td>Norway</td>\n",
       "      <td>Multiplayer - online - with real life friends</td>\n",
       "    </tr>\n",
       "    <tr>\n",
       "      <th>13462</th>\n",
       "      <td>Console (PS, Xbox, ...)</td>\n",
       "      <td>5.0</td>\n",
       "      <td>Other</td>\n",
       "      <td>18</td>\n",
       "      <td>Female</td>\n",
       "      <td>High school diploma (or equivalent)</td>\n",
       "      <td>Student at school</td>\n",
       "      <td>13</td>\n",
       "      <td>16</td>\n",
       "      <td>32.0</td>\n",
       "      <td>Canada</td>\n",
       "      <td>Singleplayer</td>\n",
       "    </tr>\n",
       "    <tr>\n",
       "      <th>13463</th>\n",
       "      <td>PC</td>\n",
       "      <td>15.0</td>\n",
       "      <td>Starcraft 2</td>\n",
       "      <td>19</td>\n",
       "      <td>Male</td>\n",
       "      <td>High school diploma (or equivalent)</td>\n",
       "      <td>Student at college / university</td>\n",
       "      <td>2</td>\n",
       "      <td>25</td>\n",
       "      <td>14.0</td>\n",
       "      <td>Canada</td>\n",
       "      <td>Multiplayer - online - with strangers</td>\n",
       "    </tr>\n",
       "  </tbody>\n",
       "</table>\n",
       "<p>13464 rows × 12 columns</p>\n",
       "</div>"
      ],
      "text/plain": [
       "                      Platform  Hours               Game  Age  Gender  \\\n",
       "0      Console (PS, Xbox, ...)   15.0             Skyrim   25    Male   \n",
       "1                           PC    8.0              Other   41    Male   \n",
       "2                           PC    0.0              Other   32  Female   \n",
       "3                           PC   20.0              Other   28    Male   \n",
       "4      Console (PS, Xbox, ...)   20.0              Other   19    Male   \n",
       "...                        ...    ...                ...  ...     ...   \n",
       "13459  Console (PS, Xbox, ...)   40.0              Other   22    Male   \n",
       "13460                       PC   20.0  League of Legends   20  Female   \n",
       "13461                       PC   20.0        Starcraft 2   19    Male   \n",
       "13462  Console (PS, Xbox, ...)    5.0              Other   18  Female   \n",
       "13463                       PC   15.0        Starcraft 2   19    Male   \n",
       "\n",
       "                                    Degree                             Work  \\\n",
       "0                 Bachelor�(or equivalent)        Unemployed / between jobs   \n",
       "1                 Bachelor�(or equivalent)        Unemployed / between jobs   \n",
       "2                 Bachelor�(or equivalent)                         Employed   \n",
       "3                 Bachelor�(or equivalent)                         Employed   \n",
       "4      High school diploma (or equivalent)                         Employed   \n",
       "...                                    ...                              ...   \n",
       "13459               Master�(or equivalent)  Student at college / university   \n",
       "13460  High school diploma (or equivalent)  Student at college / university   \n",
       "13461  High school diploma (or equivalent)  Student at college / university   \n",
       "13462  High school diploma (or equivalent)                Student at school   \n",
       "13463  High school diploma (or equivalent)  Student at college / university   \n",
       "\n",
       "       GAD_T  SWL_T  SPIN_T    Residence  \\\n",
       "0          1     23     5.0          USA   \n",
       "1          8     16    33.0          USA   \n",
       "2          8     17    31.0      Germany   \n",
       "3          0     17    11.0          USA   \n",
       "4         14     14    13.0  South Korea   \n",
       "...      ...    ...     ...          ...   \n",
       "13459      4     28     7.0       France   \n",
       "13460     20     23    25.0          USA   \n",
       "13461      0     32    10.0       Norway   \n",
       "13462     13     16    32.0       Canada   \n",
       "13463      2     25    14.0       Canada   \n",
       "\n",
       "                                               Playstyle  \n",
       "0                                           Singleplayer  \n",
       "1                  Multiplayer - online - with strangers  \n",
       "2                                           Singleplayer  \n",
       "3      Multiplayer - online - with online acquaintanc...  \n",
       "4                  Multiplayer - online - with strangers  \n",
       "...                                                  ...  \n",
       "13459              Multiplayer - online - with strangers  \n",
       "13460              Multiplayer - online - with strangers  \n",
       "13461      Multiplayer - online - with real life friends  \n",
       "13462                                       Singleplayer  \n",
       "13463              Multiplayer - online - with strangers  \n",
       "\n",
       "[13464 rows x 12 columns]"
      ]
     },
     "execution_count": 9,
     "metadata": {},
     "output_type": "execute_result"
    }
   ],
   "source": [
    "data"
   ]
  },
  {
   "cell_type": "code",
   "execution_count": 10,
   "id": "a6c2150a",
   "metadata": {},
   "outputs": [
    {
     "data": {
      "text/plain": [
       "pandas.core.series.Series"
      ]
     },
     "execution_count": 10,
     "metadata": {},
     "output_type": "execute_result"
    }
   ],
   "source": [
    "type(data['Degree'])"
   ]
  },
  {
   "cell_type": "markdown",
   "id": "30efafab",
   "metadata": {},
   "source": [
    "#### To have a glimpse about the numerical data present in selected columns, describe() is used"
   ]
  },
  {
   "cell_type": "code",
   "execution_count": 11,
   "id": "c440187d",
   "metadata": {},
   "outputs": [
    {
     "data": {
      "text/html": [
       "<div>\n",
       "<style scoped>\n",
       "    .dataframe tbody tr th:only-of-type {\n",
       "        vertical-align: middle;\n",
       "    }\n",
       "\n",
       "    .dataframe tbody tr th {\n",
       "        vertical-align: top;\n",
       "    }\n",
       "\n",
       "    .dataframe thead th {\n",
       "        text-align: right;\n",
       "    }\n",
       "</style>\n",
       "<table border=\"1\" class=\"dataframe\">\n",
       "  <thead>\n",
       "    <tr style=\"text-align: right;\">\n",
       "      <th></th>\n",
       "      <th>Hours</th>\n",
       "      <th>Age</th>\n",
       "      <th>GAD_T</th>\n",
       "      <th>SWL_T</th>\n",
       "      <th>SPIN_T</th>\n",
       "    </tr>\n",
       "  </thead>\n",
       "  <tbody>\n",
       "    <tr>\n",
       "      <th>count</th>\n",
       "      <td>13434.000000</td>\n",
       "      <td>13464.000000</td>\n",
       "      <td>13464.000000</td>\n",
       "      <td>13464.000000</td>\n",
       "      <td>12814.000000</td>\n",
       "    </tr>\n",
       "    <tr>\n",
       "      <th>mean</th>\n",
       "      <td>22.247357</td>\n",
       "      <td>20.930407</td>\n",
       "      <td>5.211973</td>\n",
       "      <td>19.788844</td>\n",
       "      <td>19.848525</td>\n",
       "    </tr>\n",
       "    <tr>\n",
       "      <th>std</th>\n",
       "      <td>70.284502</td>\n",
       "      <td>3.300897</td>\n",
       "      <td>4.713267</td>\n",
       "      <td>7.229243</td>\n",
       "      <td>13.467493</td>\n",
       "    </tr>\n",
       "    <tr>\n",
       "      <th>min</th>\n",
       "      <td>0.000000</td>\n",
       "      <td>18.000000</td>\n",
       "      <td>0.000000</td>\n",
       "      <td>5.000000</td>\n",
       "      <td>0.000000</td>\n",
       "    </tr>\n",
       "    <tr>\n",
       "      <th>25%</th>\n",
       "      <td>12.000000</td>\n",
       "      <td>18.000000</td>\n",
       "      <td>2.000000</td>\n",
       "      <td>14.000000</td>\n",
       "      <td>9.000000</td>\n",
       "    </tr>\n",
       "    <tr>\n",
       "      <th>50%</th>\n",
       "      <td>20.000000</td>\n",
       "      <td>20.000000</td>\n",
       "      <td>4.000000</td>\n",
       "      <td>20.000000</td>\n",
       "      <td>17.000000</td>\n",
       "    </tr>\n",
       "    <tr>\n",
       "      <th>75%</th>\n",
       "      <td>28.000000</td>\n",
       "      <td>22.000000</td>\n",
       "      <td>8.000000</td>\n",
       "      <td>26.000000</td>\n",
       "      <td>28.000000</td>\n",
       "    </tr>\n",
       "    <tr>\n",
       "      <th>max</th>\n",
       "      <td>8000.000000</td>\n",
       "      <td>63.000000</td>\n",
       "      <td>21.000000</td>\n",
       "      <td>35.000000</td>\n",
       "      <td>68.000000</td>\n",
       "    </tr>\n",
       "  </tbody>\n",
       "</table>\n",
       "</div>"
      ],
      "text/plain": [
       "              Hours           Age         GAD_T         SWL_T        SPIN_T\n",
       "count  13434.000000  13464.000000  13464.000000  13464.000000  12814.000000\n",
       "mean      22.247357     20.930407      5.211973     19.788844     19.848525\n",
       "std       70.284502      3.300897      4.713267      7.229243     13.467493\n",
       "min        0.000000     18.000000      0.000000      5.000000      0.000000\n",
       "25%       12.000000     18.000000      2.000000     14.000000      9.000000\n",
       "50%       20.000000     20.000000      4.000000     20.000000     17.000000\n",
       "75%       28.000000     22.000000      8.000000     26.000000     28.000000\n",
       "max     8000.000000     63.000000     21.000000     35.000000     68.000000"
      ]
     },
     "execution_count": 11,
     "metadata": {},
     "output_type": "execute_result"
    }
   ],
   "source": [
    "data.describe()"
   ]
  },
  {
   "cell_type": "code",
   "execution_count": 12,
   "id": "3739c635",
   "metadata": {},
   "outputs": [
    {
     "data": {
      "text/plain": [
       "pandas.core.frame.DataFrame"
      ]
     },
     "execution_count": 12,
     "metadata": {},
     "output_type": "execute_result"
    }
   ],
   "source": [
    "type(data.describe())"
   ]
  },
  {
   "cell_type": "markdown",
   "id": "d14bf8fc",
   "metadata": {},
   "source": [
    "## Simple data Exploration"
   ]
  },
  {
   "cell_type": "code",
   "execution_count": 13,
   "id": "3f5c5f67",
   "metadata": {},
   "outputs": [
    {
     "data": {
      "text/plain": [
       "(13464, 12)"
      ]
     },
     "execution_count": 13,
     "metadata": {},
     "output_type": "execute_result"
    }
   ],
   "source": [
    "data.shape"
   ]
  },
  {
   "cell_type": "code",
   "execution_count": 14,
   "id": "ee6ee81b",
   "metadata": {},
   "outputs": [
    {
     "data": {
      "text/plain": [
       "tuple"
      ]
     },
     "execution_count": 14,
     "metadata": {},
     "output_type": "execute_result"
    }
   ],
   "source": [
    "type(data.shape)"
   ]
  },
  {
   "cell_type": "code",
   "execution_count": 15,
   "id": "c6af73cd",
   "metadata": {},
   "outputs": [
    {
     "name": "stdout",
     "output_type": "stream",
     "text": [
      "<class 'pandas.core.frame.DataFrame'>\n",
      "RangeIndex: 13464 entries, 0 to 13463\n",
      "Data columns (total 12 columns):\n",
      " #   Column     Non-Null Count  Dtype  \n",
      "---  ------     --------------  -----  \n",
      " 0   Platform   13464 non-null  object \n",
      " 1   Hours      13434 non-null  float64\n",
      " 2   Game       13464 non-null  object \n",
      " 3   Age        13464 non-null  int64  \n",
      " 4   Gender     13464 non-null  object \n",
      " 5   Degree     13464 non-null  object \n",
      " 6   Work       13426 non-null  object \n",
      " 7   GAD_T      13464 non-null  int64  \n",
      " 8   SWL_T      13464 non-null  int64  \n",
      " 9   SPIN_T     12814 non-null  float64\n",
      " 10  Residence  13464 non-null  object \n",
      " 11  Playstyle  13464 non-null  object \n",
      "dtypes: float64(2), int64(3), object(7)\n",
      "memory usage: 1.2+ MB\n"
     ]
    }
   ],
   "source": [
    "data.info()"
   ]
  },
  {
   "cell_type": "code",
   "execution_count": 16,
   "id": "d4240709",
   "metadata": {},
   "outputs": [
    {
     "data": {
      "text/plain": [
       "Platform       3\n",
       "Hours         84\n",
       "Game          11\n",
       "Age           30\n",
       "Gender         3\n",
       "Degree         5\n",
       "Work           4\n",
       "GAD_T         22\n",
       "SWL_T         31\n",
       "SPIN_T        69\n",
       "Residence    109\n",
       "Playstyle    298\n",
       "dtype: int64"
      ]
     },
     "execution_count": 16,
     "metadata": {},
     "output_type": "execute_result"
    }
   ],
   "source": [
    "data.nunique()"
   ]
  },
  {
   "cell_type": "markdown",
   "id": "a766f4c3",
   "metadata": {},
   "source": [
    "# Interrogating the data"
   ]
  },
  {
   "cell_type": "markdown",
   "id": "2545a7f1",
   "metadata": {},
   "source": [
    "## Numbers of gamers based on Gender"
   ]
  },
  {
   "cell_type": "code",
   "execution_count": 17,
   "id": "26d3e89a",
   "metadata": {},
   "outputs": [
    {
     "data": {
      "text/plain": [
       "Multiplayer - online - with real life friends                                   5564\n",
       "Multiplayer - online - with strangers                                           4134\n",
       "Multiplayer - online - with online acquaintances or teammates                   2652\n",
       "Singleplayer                                                                     762\n",
       "Multiplayer - offline (people in the same room)                                   48\n",
       "                                                                                ... \n",
       "Online, both real life and online friends                                          1\n",
       "I usually play online with my real life friends and the internet ones alike.       1\n",
       "a mix between rl friends and with strangers depends how im feeling                 1\n",
       "Multiplayer- with freinds and strangers                                            1\n",
       "Multiplayer - online - Strangers vs Bots/AI                                        1\n",
       "Name: Playstyle, Length: 298, dtype: int64"
      ]
     },
     "execution_count": 17,
     "metadata": {},
     "output_type": "execute_result"
    }
   ],
   "source": [
    "data['Playstyle'].value_counts()"
   ]
  },
  {
   "cell_type": "markdown",
   "id": "25229df7",
   "metadata": {},
   "source": [
    "## Gamers count based on Education & Work"
   ]
  },
  {
   "cell_type": "code",
   "execution_count": 18,
   "id": "d7564131",
   "metadata": {},
   "outputs": [
    {
     "data": {
      "text/plain": [
       "Student at college / university    7073\n",
       "Employed                           2734\n",
       "Student at school                  2229\n",
       "Unemployed / between jobs          1390\n",
       "Name: Work, dtype: int64"
      ]
     },
     "execution_count": 18,
     "metadata": {},
     "output_type": "execute_result"
    }
   ],
   "source": [
    "data['Work'].value_counts()"
   ]
  },
  {
   "cell_type": "code",
   "execution_count": 19,
   "id": "067d3472",
   "metadata": {},
   "outputs": [
    {
     "data": {
      "text/plain": [
       "38"
      ]
     },
     "execution_count": 19,
     "metadata": {},
     "output_type": "execute_result"
    }
   ],
   "source": [
    "data.Work.isnull().sum()"
   ]
  },
  {
   "cell_type": "code",
   "execution_count": 20,
   "id": "a42e3b4f",
   "metadata": {},
   "outputs": [
    {
     "data": {
      "text/plain": [
       "High school diploma (or equivalent)    8560\n",
       "Bachelor�(or equivalent)               2687\n",
       "None                                   1577\n",
       "Master�(or equivalent)                  546\n",
       "Ph.D., Psy. D., MD (or equivalent)       94\n",
       "Name: Degree, dtype: int64"
      ]
     },
     "execution_count": 20,
     "metadata": {},
     "output_type": "execute_result"
    }
   ],
   "source": [
    "data['Degree'].value_counts()"
   ]
  },
  {
   "cell_type": "code",
   "execution_count": 21,
   "id": "4f62ccc9",
   "metadata": {},
   "outputs": [
    {
     "data": {
      "text/plain": [
       "0"
      ]
     },
     "execution_count": 21,
     "metadata": {},
     "output_type": "execute_result"
    }
   ],
   "source": [
    "data.Degree.isnull().sum()"
   ]
  },
  {
   "cell_type": "markdown",
   "id": "f2c8e9a8",
   "metadata": {},
   "source": [
    "# Exploring the supproting variables"
   ]
  },
  {
   "cell_type": "markdown",
   "id": "764990f8",
   "metadata": {},
   "source": [
    "## 'Age' Variable"
   ]
  },
  {
   "cell_type": "code",
   "execution_count": 21,
   "id": "71663275",
   "metadata": {
    "scrolled": true
   },
   "outputs": [
    {
     "data": {
      "image/png": "[encoded data removed]",
      "text/plain": [
       "<Figure size 432x288 with 1 Axes>"
      ]
     },
     "metadata": {
      "needs_background": "light"
     },
     "output_type": "display_data"
    }
   ],
   "source": [
    "plt.hist(data.Age, bins=10, rwidth=0.8)\n",
    "plt.xlabel(\"Age\")\n",
    "plt.ylabel(\"Count\")\n",
    "plt.show()"
   ]
  },
  {
   "cell_type": "markdown",
   "id": "22581d1f",
   "metadata": {},
   "source": [
    "#### Referencing to the histogram that is created above, we can conclude that it is a 'Unimodal' and 'Right-Skewed' distribution. "
   ]
  },
  {
   "cell_type": "markdown",
   "id": "6bd9a89b",
   "metadata": {},
   "source": [
    "## Missing values in Age variable"
   ]
  },
  {
   "cell_type": "code",
   "execution_count": 22,
   "id": "d8dc2361",
   "metadata": {},
   "outputs": [
    {
     "data": {
      "text/plain": [
       "0"
      ]
     },
     "execution_count": 22,
     "metadata": {},
     "output_type": "execute_result"
    }
   ],
   "source": [
    "data.Age.isnull().sum()"
   ]
  },
  {
   "cell_type": "markdown",
   "id": "139a7873",
   "metadata": {},
   "source": [
    "#### From the above code, we can see that there is no missing value in \"Age\" variable. "
   ]
  },
  {
   "cell_type": "markdown",
   "id": "87c3eddf",
   "metadata": {},
   "source": [
    "## Outliers Detection in the Age variable"
   ]
  },
  {
   "cell_type": "code",
   "execution_count": 23,
   "id": "1950a2d3",
   "metadata": {},
   "outputs": [
    {
     "data": {
      "text/plain": [
       "<AxesSubplot:xlabel='Age'>"
      ]
     },
     "execution_count": 23,
     "metadata": {},
     "output_type": "execute_result"
    },
    {
     "data": {
      "image/png": "[encoded data removed]",
      "text/plain": [
       "<Figure size 432x288 with 1 Axes>"
      ]
     },
     "metadata": {
      "needs_background": "light"
     },
     "output_type": "display_data"
    }
   ],
   "source": [
    "sns.boxplot(x=data.Age, data=data)"
   ]
  },
  {
   "cell_type": "markdown",
   "id": "28940455",
   "metadata": {},
   "source": [
    "#### Referencing from the boxplot that is created above, we can conclude that there are several outliers in the \"Age\" variable."
   ]
  },
  {
   "cell_type": "code",
   "execution_count": 24,
   "id": "bc2df73c",
   "metadata": {},
   "outputs": [
    {
     "name": "stdout",
     "output_type": "stream",
     "text": [
      "28.0\n"
     ]
    }
   ],
   "source": [
    "Q1=data.Age.quantile(0.25)\n",
    "Q3=data.Age.quantile(0.75)\n",
    "IQR=Q3-Q1\n",
    "Outliers = Q3 + 1.5*IQR\n",
    "print(Outliers)"
   ]
  },
  {
   "cell_type": "markdown",
   "id": "e0978feb",
   "metadata": {},
   "source": [
    "#### Based on the calculation, all the values beyond 28 of 'Age' variable can be consider as outliers but we will not be considering this as an outliers"
   ]
  },
  {
   "cell_type": "markdown",
   "id": "5fa6148d",
   "metadata": {},
   "source": [
    "## 'Degree' variable"
   ]
  },
  {
   "cell_type": "code",
   "execution_count": 25,
   "id": "0932cfcc",
   "metadata": {
    "scrolled": true
   },
   "outputs": [
    {
     "data": {
      "image/png": "[encoded data removed]",
      "text/plain": [
       "<Figure size 432x288 with 1 Axes>"
      ]
     },
     "metadata": {
      "needs_background": "light"
     },
     "output_type": "display_data"
    }
   ],
   "source": [
    "plt.hist(data.Degree, bins=10, rwidth=0.9)\n",
    "plt.xlabel(\"Degree\")\n",
    "plt.ylabel(\"Count\")\n",
    "plt.xticks(rotation=45)\n",
    "plt.show()"
   ]
  },
  {
   "cell_type": "markdown",
   "id": "f5c74d9c",
   "metadata": {},
   "source": [
    "#### Referencing to the histogram created above, we can conclude that this variable is normally distributed. From the above plot, it can be clearly seen that the High school Diploma holders or equivalent holds the highest count in terms of usage of the various gaming platforms and the Bachelors Degree holder holds the second highest position when compared with others."
   ]
  },
  {
   "cell_type": "markdown",
   "id": "a29ad130",
   "metadata": {},
   "source": [
    "## 'Work' variable"
   ]
  },
  {
   "cell_type": "code",
   "execution_count": 26,
   "id": "8aee8ce2",
   "metadata": {},
   "outputs": [
    {
     "data": {
      "text/plain": [
       "[Text(0, 0, 'Unemployed / between jobs'),\n",
       " Text(1, 0, 'Employed'),\n",
       " Text(2, 0, 'Student at college / university'),\n",
       " Text(3, 0, 'Student at school')]"
      ]
     },
     "execution_count": 26,
     "metadata": {},
     "output_type": "execute_result"
    },
    {
     "data": {
      "image/png": "[encoded data removed]",
      "text/plain": [
       "<Figure size 432x288 with 1 Axes>"
      ]
     },
     "metadata": {
      "needs_background": "light"
     },
     "output_type": "display_data"
    }
   ],
   "source": [
    "chart = sns.countplot(x ='Work', data = data)\n",
    "\n",
    "chart.set_xticklabels(chart.get_xticklabels(), rotation=20, horizontalalignment='center')"
   ]
  },
  {
   "cell_type": "markdown",
   "id": "8eb6cbab",
   "metadata": {},
   "source": [
    "# Data Cleaning & Transformation"
   ]
  },
  {
   "cell_type": "markdown",
   "id": "e7b1a114",
   "metadata": {},
   "source": [
    "# Missing values in Work variable"
   ]
  },
  {
   "cell_type": "code",
   "execution_count": 29,
   "id": "93366ce8",
   "metadata": {},
   "outputs": [
    {
     "data": {
      "text/plain": [
       "38"
      ]
     },
     "execution_count": 29,
     "metadata": {},
     "output_type": "execute_result"
    }
   ],
   "source": [
    "data.Work.isnull().sum()"
   ]
  },
  {
   "cell_type": "markdown",
   "id": "60072544",
   "metadata": {},
   "source": [
    "## Removing these 38 null values from the set before generating plots. "
   ]
  },
  {
   "cell_type": "code",
   "execution_count": 30,
   "id": "8f8d9b36",
   "metadata": {},
   "outputs": [],
   "source": [
    "data = data[data['Work'].notna()]"
   ]
  },
  {
   "cell_type": "markdown",
   "id": "cb6ae4c7",
   "metadata": {},
   "source": [
    "## The data has been cleaned after removing the null values"
   ]
  },
  {
   "cell_type": "code",
   "execution_count": 31,
   "id": "9522566a",
   "metadata": {},
   "outputs": [
    {
     "name": "stdout",
     "output_type": "stream",
     "text": [
      "0\n"
     ]
    }
   ],
   "source": [
    "print(data['Work'].isnull().sum())"
   ]
  },
  {
   "cell_type": "markdown",
   "id": "51ddd6e8",
   "metadata": {},
   "source": [
    "## Removing these 30 null values from the set before generating plots. "
   ]
  },
  {
   "cell_type": "code",
   "execution_count": 32,
   "id": "3fcc9c10",
   "metadata": {},
   "outputs": [],
   "source": [
    "data = data[data['Hours'].notna()]"
   ]
  },
  {
   "cell_type": "markdown",
   "id": "1c9e1794",
   "metadata": {},
   "source": [
    "## The data has been cleaned after removing the null values"
   ]
  },
  {
   "cell_type": "code",
   "execution_count": 33,
   "id": "aeb69750",
   "metadata": {},
   "outputs": [
    {
     "name": "stdout",
     "output_type": "stream",
     "text": [
      "0\n"
     ]
    }
   ],
   "source": [
    "print(data['Hours'].isnull().sum())"
   ]
  },
  {
   "cell_type": "markdown",
   "id": "733c7514",
   "metadata": {},
   "source": [
    "## The variable 'Age' had multiple values in it, so we have grouped it based on five type to get a better insight in the plot"
   ]
  },
  {
   "cell_type": "code",
   "execution_count": 34,
   "id": "cad060e1",
   "metadata": {},
   "outputs": [],
   "source": [
    "Age_range = pd.cut(data.Age,bins=[0,18,19,20,21,22,64],labels=['18','19','20','21','22','22+'])"
   ]
  },
  {
   "cell_type": "code",
   "execution_count": 35,
   "id": "b9adef2f",
   "metadata": {},
   "outputs": [],
   "source": [
    "data.insert(4,'Age_Group',Age_range)"
   ]
  },
  {
   "cell_type": "markdown",
   "id": "ed8ba56e",
   "metadata": {},
   "source": [
    "## Transforming Hours into groups"
   ]
  },
  {
   "cell_type": "markdown",
   "id": "cedf40c9",
   "metadata": {},
   "source": [
    "## The variable 'Hours' had multiple values in it, so we have grouped it based on 6 intervals"
   ]
  },
  {
   "cell_type": "code",
   "execution_count": 36,
   "id": "01a280b7",
   "metadata": {},
   "outputs": [],
   "source": [
    "Hours_Grouped = pd.cut(data.Hours,bins=[-1,10,15,20,25,30,80000],labels=['0-10','11-15','16-20','21-25','26-30','30+'])"
   ]
  },
  {
   "cell_type": "code",
   "execution_count": 37,
   "id": "3f558374",
   "metadata": {},
   "outputs": [],
   "source": [
    "data.insert(2,'Hours_Grouped',Hours_Grouped)"
   ]
  },
  {
   "cell_type": "markdown",
   "id": "6ac5544a",
   "metadata": {},
   "source": [
    "## Missing values in SPIN_T variable"
   ]
  },
  {
   "cell_type": "code",
   "execution_count": 38,
   "id": "fe9dd062",
   "metadata": {},
   "outputs": [
    {
     "name": "stdout",
     "output_type": "stream",
     "text": [
      "641\n"
     ]
    }
   ],
   "source": [
    "print(data['SPIN_T'].isnull().sum())"
   ]
  },
  {
   "cell_type": "markdown",
   "id": "0ceafe29",
   "metadata": {},
   "source": [
    "### Removing these 641 null values from the set before generating plots."
   ]
  },
  {
   "cell_type": "code",
   "execution_count": 39,
   "id": "a51ce54b",
   "metadata": {},
   "outputs": [],
   "source": [
    "data = data[data['SPIN_T'].notna()]"
   ]
  },
  {
   "cell_type": "markdown",
   "id": "b5c5810e",
   "metadata": {},
   "source": [
    "### The data has been cleaned after removing the null values"
   ]
  },
  {
   "cell_type": "code",
   "execution_count": 40,
   "id": "98b25747",
   "metadata": {},
   "outputs": [
    {
     "data": {
      "text/plain": [
       "(12755, 14)"
      ]
     },
     "execution_count": 40,
     "metadata": {},
     "output_type": "execute_result"
    }
   ],
   "source": [
    "data.shape"
   ]
  },
  {
   "cell_type": "code",
   "execution_count": 41,
   "id": "d01c6dd2",
   "metadata": {},
   "outputs": [
    {
     "name": "stdout",
     "output_type": "stream",
     "text": [
      "0\n"
     ]
    }
   ],
   "source": [
    "print(data['SPIN_T'].isnull().sum())"
   ]
  },
  {
   "cell_type": "markdown",
   "id": "0d0a01f2",
   "metadata": {},
   "source": [
    "## Data transformation based on Playstyle"
   ]
  },
  {
   "cell_type": "code",
   "execution_count": 42,
   "id": "128ecdbd",
   "metadata": {},
   "outputs": [
    {
     "data": {
      "text/plain": [
       "Multiplayer - online - with real life friends                                   5564\n",
       "Multiplayer - online - with strangers                                           4134\n",
       "Multiplayer - online - with online acquaintances or teammates                   2652\n",
       "Singleplayer                                                                     762\n",
       "Multiplayer - offline (people in the same room)                                   48\n",
       "                                                                                ... \n",
       "Online, both real life and online friends                                          1\n",
       "I usually play online with my real life friends and the internet ones alike.       1\n",
       "a mix between rl friends and with strangers depends how im feeling                 1\n",
       "Multiplayer- with freinds and strangers                                            1\n",
       "Multiplayer - online - Strangers vs Bots/AI                                        1\n",
       "Name: Playstyle, Length: 298, dtype: int64"
      ]
     },
     "execution_count": 42,
     "metadata": {},
     "output_type": "execute_result"
    }
   ],
   "source": [
    "games['Playstyle'].value_counts()"
   ]
  },
  {
   "cell_type": "code",
   "execution_count": 43,
   "id": "8d0564c4",
   "metadata": {},
   "outputs": [],
   "source": [
    "data.loc[data['Playstyle'] == 'Multiplayer - online - with real life friends', 'Play_Style'] = 'with real life friends'\n",
    "data.loc[data['Playstyle'] == 'Multiplayer - online - with strangers', 'Play_Style'] = 'with strangers'\n",
    "data.loc[data['Playstyle'] == 'Multiplayer - online - with online acquaintances or teammates', 'Play_Style'] = 'with online acquaintances or teammates'"
   ]
  },
  {
   "cell_type": "code",
   "execution_count": 44,
   "id": "2839f3ed",
   "metadata": {},
   "outputs": [],
   "source": [
    "data['Play_Style'] = data['Play_Style'].fillna('Others')"
   ]
  },
  {
   "cell_type": "markdown",
   "id": "ba4d9ee2",
   "metadata": {},
   "source": [
    "### Data viewing"
   ]
  },
  {
   "cell_type": "code",
   "execution_count": 45,
   "id": "b2a3ea1c",
   "metadata": {
    "scrolled": true
   },
   "outputs": [
    {
     "data": {
      "text/html": [
       "<div>\n",
       "<style scoped>\n",
       "    .dataframe tbody tr th:only-of-type {\n",
       "        vertical-align: middle;\n",
       "    }\n",
       "\n",
       "    .dataframe tbody tr th {\n",
       "        vertical-align: top;\n",
       "    }\n",
       "\n",
       "    .dataframe thead th {\n",
       "        text-align: right;\n",
       "    }\n",
       "</style>\n",
       "<table border=\"1\" class=\"dataframe\">\n",
       "  <thead>\n",
       "    <tr style=\"text-align: right;\">\n",
       "      <th></th>\n",
       "      <th>Platform</th>\n",
       "      <th>Hours</th>\n",
       "      <th>Hours_Grouped</th>\n",
       "      <th>Game</th>\n",
       "      <th>Age</th>\n",
       "      <th>Age_Group</th>\n",
       "      <th>Gender</th>\n",
       "      <th>Degree</th>\n",
       "      <th>Work</th>\n",
       "      <th>GAD_T</th>\n",
       "      <th>SWL_T</th>\n",
       "      <th>SPIN_T</th>\n",
       "      <th>Residence</th>\n",
       "      <th>Playstyle</th>\n",
       "      <th>Play_Style</th>\n",
       "    </tr>\n",
       "  </thead>\n",
       "  <tbody>\n",
       "    <tr>\n",
       "      <th>0</th>\n",
       "      <td>Console (PS, Xbox, ...)</td>\n",
       "      <td>15.0</td>\n",
       "      <td>11-15</td>\n",
       "      <td>Skyrim</td>\n",
       "      <td>25</td>\n",
       "      <td>22+</td>\n",
       "      <td>Male</td>\n",
       "      <td>Bachelor�(or equivalent)</td>\n",
       "      <td>Unemployed / between jobs</td>\n",
       "      <td>1</td>\n",
       "      <td>23</td>\n",
       "      <td>5.0</td>\n",
       "      <td>USA</td>\n",
       "      <td>Singleplayer</td>\n",
       "      <td>Others</td>\n",
       "    </tr>\n",
       "    <tr>\n",
       "      <th>1</th>\n",
       "      <td>PC</td>\n",
       "      <td>8.0</td>\n",
       "      <td>0-10</td>\n",
       "      <td>Other</td>\n",
       "      <td>41</td>\n",
       "      <td>22+</td>\n",
       "      <td>Male</td>\n",
       "      <td>Bachelor�(or equivalent)</td>\n",
       "      <td>Unemployed / between jobs</td>\n",
       "      <td>8</td>\n",
       "      <td>16</td>\n",
       "      <td>33.0</td>\n",
       "      <td>USA</td>\n",
       "      <td>Multiplayer - online - with strangers</td>\n",
       "      <td>with strangers</td>\n",
       "    </tr>\n",
       "    <tr>\n",
       "      <th>2</th>\n",
       "      <td>PC</td>\n",
       "      <td>0.0</td>\n",
       "      <td>0-10</td>\n",
       "      <td>Other</td>\n",
       "      <td>32</td>\n",
       "      <td>22+</td>\n",
       "      <td>Female</td>\n",
       "      <td>Bachelor�(or equivalent)</td>\n",
       "      <td>Employed</td>\n",
       "      <td>8</td>\n",
       "      <td>17</td>\n",
       "      <td>31.0</td>\n",
       "      <td>Germany</td>\n",
       "      <td>Singleplayer</td>\n",
       "      <td>Others</td>\n",
       "    </tr>\n",
       "    <tr>\n",
       "      <th>3</th>\n",
       "      <td>PC</td>\n",
       "      <td>20.0</td>\n",
       "      <td>16-20</td>\n",
       "      <td>Other</td>\n",
       "      <td>28</td>\n",
       "      <td>22+</td>\n",
       "      <td>Male</td>\n",
       "      <td>Bachelor�(or equivalent)</td>\n",
       "      <td>Employed</td>\n",
       "      <td>0</td>\n",
       "      <td>17</td>\n",
       "      <td>11.0</td>\n",
       "      <td>USA</td>\n",
       "      <td>Multiplayer - online - with online acquaintanc...</td>\n",
       "      <td>with online acquaintances or teammates</td>\n",
       "    </tr>\n",
       "    <tr>\n",
       "      <th>4</th>\n",
       "      <td>Console (PS, Xbox, ...)</td>\n",
       "      <td>20.0</td>\n",
       "      <td>16-20</td>\n",
       "      <td>Other</td>\n",
       "      <td>19</td>\n",
       "      <td>19</td>\n",
       "      <td>Male</td>\n",
       "      <td>High school diploma (or equivalent)</td>\n",
       "      <td>Employed</td>\n",
       "      <td>14</td>\n",
       "      <td>14</td>\n",
       "      <td>13.0</td>\n",
       "      <td>South Korea</td>\n",
       "      <td>Multiplayer - online - with strangers</td>\n",
       "      <td>with strangers</td>\n",
       "    </tr>\n",
       "  </tbody>\n",
       "</table>\n",
       "</div>"
      ],
      "text/plain": [
       "                  Platform  Hours Hours_Grouped    Game  Age Age_Group  \\\n",
       "0  Console (PS, Xbox, ...)   15.0         11-15  Skyrim   25       22+   \n",
       "1                       PC    8.0          0-10   Other   41       22+   \n",
       "2                       PC    0.0          0-10   Other   32       22+   \n",
       "3                       PC   20.0         16-20   Other   28       22+   \n",
       "4  Console (PS, Xbox, ...)   20.0         16-20   Other   19        19   \n",
       "\n",
       "   Gender                               Degree                       Work  \\\n",
       "0    Male             Bachelor�(or equivalent)  Unemployed / between jobs   \n",
       "1    Male             Bachelor�(or equivalent)  Unemployed / between jobs   \n",
       "2  Female             Bachelor�(or equivalent)                   Employed   \n",
       "3    Male             Bachelor�(or equivalent)                   Employed   \n",
       "4    Male  High school diploma (or equivalent)                   Employed   \n",
       "\n",
       "   GAD_T  SWL_T  SPIN_T    Residence  \\\n",
       "0      1     23     5.0          USA   \n",
       "1      8     16    33.0          USA   \n",
       "2      8     17    31.0      Germany   \n",
       "3      0     17    11.0          USA   \n",
       "4     14     14    13.0  South Korea   \n",
       "\n",
       "                                           Playstyle  \\\n",
       "0                                       Singleplayer   \n",
       "1              Multiplayer - online - with strangers   \n",
       "2                                       Singleplayer   \n",
       "3  Multiplayer - online - with online acquaintanc...   \n",
       "4              Multiplayer - online - with strangers   \n",
       "\n",
       "                               Play_Style  \n",
       "0                                  Others  \n",
       "1                          with strangers  \n",
       "2                                  Others  \n",
       "3  with online acquaintances or teammates  \n",
       "4                          with strangers  "
      ]
     },
     "execution_count": 45,
     "metadata": {},
     "output_type": "execute_result"
    }
   ],
   "source": [
    "data.head()"
   ]
  },
  {
   "cell_type": "markdown",
   "id": "3be86216",
   "metadata": {},
   "source": [
    "### From the above table we can see that we have included a new col which will grou the hours"
   ]
  },
  {
   "cell_type": "markdown",
   "id": "adfdf924",
   "metadata": {},
   "source": [
    "# General Anxiety Disorder ( GAD_T )"
   ]
  },
  {
   "cell_type": "code",
   "execution_count": 46,
   "id": "0898de68",
   "metadata": {},
   "outputs": [
    {
     "data": {
      "text/plain": [
       "Text(0, 0.5, 'Count')"
      ]
     },
     "execution_count": 46,
     "metadata": {},
     "output_type": "execute_result"
    },
    {
     "data": {
      "image/png": "[encoded data removed]",
      "text/plain": [
       "<Figure size 432x288 with 1 Axes>"
      ]
     },
     "metadata": {
      "needs_background": "light"
     },
     "output_type": "display_data"
    }
   ],
   "source": [
    "from scipy.stats import norm\n",
    "plt.hist(data.GAD_T, bins=10, rwidth=0.8, density=True)\n",
    "plt.xlabel(\"GAD\")\n",
    "plt.ylabel(\"Count\")\n"
   ]
  },
  {
   "cell_type": "markdown",
   "id": "9e0a4e0b",
   "metadata": {},
   "source": [
    "#### We can see from the plot that this variable is 'Unimodal' and 'Right-Skewed' distribution. "
   ]
  },
  {
   "cell_type": "markdown",
   "id": "442cc4dc",
   "metadata": {},
   "source": [
    "## Missing values in GAD_T variable"
   ]
  },
  {
   "cell_type": "code",
   "execution_count": 47,
   "id": "43f474d9",
   "metadata": {},
   "outputs": [
    {
     "data": {
      "text/plain": [
       "0"
      ]
     },
     "execution_count": 47,
     "metadata": {},
     "output_type": "execute_result"
    }
   ],
   "source": [
    "data.GAD_T.isnull().sum()"
   ]
  },
  {
   "cell_type": "markdown",
   "id": "86cb9390",
   "metadata": {},
   "source": [
    "## Finding outliers in the GAD_T variable"
   ]
  },
  {
   "cell_type": "code",
   "execution_count": 48,
   "id": "210088c3",
   "metadata": {},
   "outputs": [
    {
     "data": {
      "text/plain": [
       "<AxesSubplot:xlabel='GAD_T'>"
      ]
     },
     "execution_count": 48,
     "metadata": {},
     "output_type": "execute_result"
    },
    {
     "data": {
      "image/png": "[encoded data removed]",
      "text/plain": [
       "<Figure size 432x288 with 1 Axes>"
      ]
     },
     "metadata": {
      "needs_background": "light"
     },
     "output_type": "display_data"
    }
   ],
   "source": [
    "sns.boxplot(x=data.GAD_T, data=data)"
   ]
  },
  {
   "cell_type": "markdown",
   "id": "197430a4",
   "metadata": {},
   "source": [
    "### As, we can see from the boxplot there are several outliers in the \"GAD_T\" variable but for our analysis we will not be considering these as outliers becasue these are within the permitted range."
   ]
  },
  {
   "cell_type": "code",
   "execution_count": 49,
   "id": "4bfa56e5",
   "metadata": {},
   "outputs": [
    {
     "name": "stdout",
     "output_type": "stream",
     "text": [
      "17.0\n"
     ]
    }
   ],
   "source": [
    "Q1=data.GAD_T.quantile(0.25)\n",
    "Q3=data.GAD_T.quantile(0.75)\n",
    "IQR=Q3-Q1\n",
    "Outliers = Q3 + 1.5*IQR\n",
    "\n",
    "print(Outliers)"
   ]
  },
  {
   "cell_type": "markdown",
   "id": "c3263728",
   "metadata": {},
   "source": [
    "### Considering the calculation, all the values beyond 17 of 'GAD_T' variable can be consider as outliers. "
   ]
  },
  {
   "cell_type": "markdown",
   "id": "c528a6d5",
   "metadata": {},
   "source": [
    "# Relationship between two variables"
   ]
  },
  {
   "cell_type": "markdown",
   "id": "1550cc03",
   "metadata": {},
   "source": [
    "## GAD_T vs Work"
   ]
  },
  {
   "cell_type": "code",
   "execution_count": 51,
   "id": "4dae95c5",
   "metadata": {},
   "outputs": [
    {
     "data": {
      "text/plain": [
       "[Text(0.5, 1.0, 'Age Vs Anxiety Severity'), Text(0.5, 0, 'Anxiety Severity')]"
      ]
     },
     "execution_count": 51,
     "metadata": {},
     "output_type": "execute_result"
    },
    {
     "data": {
      "image/png": "[encoded data removed]",
      "text/plain": [
       "<Figure size 432x288 with 1 Axes>"
      ]
     },
     "metadata": {
      "needs_background": "light"
     },
     "output_type": "display_data"
    }
   ],
   "source": [
    "sns.violinplot(x=data.GAD_T, y=data.Work, data=data).set(title='Work Vs Anxiety Severity',xlabel= 'Anxiety Severity')"
   ]
  },
  {
   "cell_type": "markdown",
   "id": "f662385a",
   "metadata": {},
   "source": [
    "## GAD_T vs Degree"
   ]
  },
  {
   "cell_type": "code",
   "execution_count": 52,
   "id": "e8e8977b",
   "metadata": {},
   "outputs": [
    {
     "data": {
      "text/plain": [
       "[Text(0.5, 1.0, 'Degree Vs Anxiety Severity'),\n",
       " Text(0.5, 0, 'Anxiety Severity')]"
      ]
     },
     "execution_count": 52,
     "metadata": {},
     "output_type": "execute_result"
    },
    {
     "data": {
      "image/png": "[encoded data removed]",
      "text/plain": [
       "<Figure size 432x288 with 1 Axes>"
      ]
     },
     "metadata": {
      "needs_background": "light"
     },
     "output_type": "display_data"
    }
   ],
   "source": [
    "sns.violinplot(x=data.GAD_T, y=data.Degree, data=data).set(title='Degree Vs Anxiety Severity',xlabel= 'Anxiety Severity')"
   ]
  },
  {
   "cell_type": "markdown",
   "id": "c09fe923",
   "metadata": {},
   "source": [
    "## GAD_T vs Age"
   ]
  },
  {
   "cell_type": "code",
   "execution_count": 53,
   "id": "d825c46e",
   "metadata": {},
   "outputs": [
    {
     "data": {
      "text/plain": [
       "[Text(0.5, 1.0, 'Age Vs Anxiety Severity'), Text(0.5, 0, 'Anxiety Severity')]"
      ]
     },
     "execution_count": 53,
     "metadata": {},
     "output_type": "execute_result"
    },
    {
     "data": {
      "image/png": "[encoded data removed]",
      "text/plain": [
       "<Figure size 432x288 with 1 Axes>"
      ]
     },
     "metadata": {
      "needs_background": "light"
     },
     "output_type": "display_data"
    }
   ],
   "source": [
    "sns.boxplot(x=data.GAD_T, y=data.Age_Group, data=data).set(title='Age Vs Anxiety Severity',xlabel= 'Anxiety Severity')"
   ]
  },
  {
   "cell_type": "markdown",
   "id": "ae9014ba",
   "metadata": {},
   "source": [
    "## GAD_T vs Hours Played"
   ]
  },
  {
   "cell_type": "code",
   "execution_count": 63,
   "id": "55da8a5f",
   "metadata": {},
   "outputs": [
    {
     "data": {
      "text/plain": [
       "[Text(0.5, 1.0, 'Hours_Played Vs Anxiety Severity'),\n",
       " Text(0.5, 0, 'Anxiety Severity')]"
      ]
     },
     "execution_count": 63,
     "metadata": {},
     "output_type": "execute_result"
    },
    {
     "data": {
      "image/png": "[encoded data removed]",
      "text/plain": [
       "<Figure size 432x288 with 1 Axes>"
      ]
     },
     "metadata": {
      "needs_background": "light"
     },
     "output_type": "display_data"
    }
   ],
   "source": [
    "sns.boxplot(x=data.GAD_T, y=data.Hours_Grouped, data=data).set(title='Hours_Played Vs Anxiety Severity',xlabel= 'Anxiety Severity')"
   ]
  },
  {
   "cell_type": "markdown",
   "id": "852488b6",
   "metadata": {},
   "source": [
    "## GAD_T vs Playstyle"
   ]
  },
  {
   "cell_type": "code",
   "execution_count": 55,
   "id": "6404b435",
   "metadata": {},
   "outputs": [
    {
     "data": {
      "text/plain": [
       "[Text(0.5, 1.0, 'PlayStyle Vs Anxiety Severity'),\n",
       " Text(0.5, 0, 'Anxiety Severity')]"
      ]
     },
     "execution_count": 55,
     "metadata": {},
     "output_type": "execute_result"
    },
    {
     "data": {
      "image/png": "[encoded data removed]",
      "text/plain": [
       "<Figure size 432x288 with 1 Axes>"
      ]
     },
     "metadata": {
      "needs_background": "light"
     },
     "output_type": "display_data"
    }
   ],
   "source": [
    "sns.boxplot(x=data.GAD_T, y=data.Play_Style, data=data).set(title='PlayStyle Vs Anxiety Severity',xlabel= 'Anxiety Severity')"
   ]
  },
  {
   "cell_type": "markdown",
   "id": "ba80557a",
   "metadata": {},
   "source": [
    "# Satisfaction with Life ( SWL_T )"
   ]
  },
  {
   "cell_type": "code",
   "execution_count": 80,
   "id": "8594b80a",
   "metadata": {},
   "outputs": [
    {
     "data": {
      "image/png": "[encoded data removed]",
      "text/plain": [
       "<Figure size 432x288 with 1 Axes>"
      ]
     },
     "metadata": {
      "needs_background": "light"
     },
     "output_type": "display_data"
    }
   ],
   "source": [
    "plt.hist(data.SWL_T, bins=10, rwidth=0.8)\n",
    "plt.xlabel(\"SWL\")\n",
    "plt.ylabel(\"Count\")\n",
    "plt.show()"
   ]
  },
  {
   "cell_type": "markdown",
   "id": "badd1d4a",
   "metadata": {},
   "source": [
    "#### We can see from the plot that, this variable is normally distributed with 'Multimodal' distribution."
   ]
  },
  {
   "cell_type": "markdown",
   "id": "46084a87",
   "metadata": {},
   "source": [
    "## Missing values in SWL_T variable"
   ]
  },
  {
   "cell_type": "code",
   "execution_count": 27,
   "id": "e26e7d89",
   "metadata": {},
   "outputs": [
    {
     "data": {
      "text/plain": [
       "0"
      ]
     },
     "execution_count": 27,
     "metadata": {},
     "output_type": "execute_result"
    }
   ],
   "source": [
    "data.SWL_T.isnull().sum()"
   ]
  },
  {
   "cell_type": "markdown",
   "id": "e2c51a6e",
   "metadata": {},
   "source": [
    "#### As, we can see that there is no missing value in \"SWL_T\" variable(column)."
   ]
  },
  {
   "cell_type": "code",
   "execution_count": 28,
   "id": "bb33901c",
   "metadata": {},
   "outputs": [
    {
     "data": {
      "text/plain": [
       "<AxesSubplot:xlabel='SWL_T'>"
      ]
     },
     "execution_count": 28,
     "metadata": {},
     "output_type": "execute_result"
    },
    {
     "data": {
      "image/png": "[encoded data removed]",
      "text/plain": [
       "<Figure size 432x288 with 1 Axes>"
      ]
     },
     "metadata": {
      "needs_background": "light"
     },
     "output_type": "display_data"
    }
   ],
   "source": [
    "sns.boxplot(x=data.SWL_T, data=data)"
   ]
  },
  {
   "cell_type": "code",
   "execution_count": 30,
   "id": "bfcaa476",
   "metadata": {},
   "outputs": [
    {
     "name": "stdout",
     "output_type": "stream",
     "text": [
      "44.0\n"
     ]
    }
   ],
   "source": [
    "Q1=data.SWL_T.quantile(0.25)\n",
    "Q3=data.SWL_T.quantile(0.75)\n",
    "IQR=Q3-Q1\n",
    "Outliers = Q3 + 1.5*IQR\n",
    "print(Outliers)"
   ]
  },
  {
   "cell_type": "markdown",
   "id": "2f665276",
   "metadata": {},
   "source": [
    "### Considering the calculation, all the values beyond 44 of 'SWL_T' variable can be consider as outliers. Also, We do not have any values above 44 in this data, Hence there are no outliers for the variable SWL_T"
   ]
  },
  {
   "cell_type": "markdown",
   "id": "cde434d2",
   "metadata": {},
   "source": [
    "## Relationship between two variables"
   ]
  },
  {
   "cell_type": "markdown",
   "id": "ac71d6cf",
   "metadata": {},
   "source": [
    "## SWL_T vs Work"
   ]
  },
  {
   "cell_type": "code",
   "execution_count": 57,
   "id": "cf9f1639",
   "metadata": {},
   "outputs": [
    {
     "data": {
      "text/plain": [
       "[Text(0.5, 1.0, 'Hours_Played Vs Satisfaction with Life'),\n",
       " Text(0.5, 0, 'Satisfaction with Life')]"
      ]
     },
     "execution_count": 57,
     "metadata": {},
     "output_type": "execute_result"
    },
    {
     "data": {
      "image/png": "[encoded data removed]",
      "text/plain": [
       "<Figure size 432x288 with 1 Axes>"
      ]
     },
     "metadata": {
      "needs_background": "light"
     },
     "output_type": "display_data"
    }
   ],
   "source": [
    "sns.violinplot(x=data.SWL_T, y=data.Work, data=data).set(title='Hours_Played Vs Satisfaction with Life',xlabel= 'Satisfaction with Life')"
   ]
  },
  {
   "cell_type": "markdown",
   "id": "5236bff2",
   "metadata": {},
   "source": [
    "## SWL_T vs Degree"
   ]
  },
  {
   "cell_type": "code",
   "execution_count": 59,
   "id": "f0755f70",
   "metadata": {},
   "outputs": [
    {
     "data": {
      "text/plain": [
       "[Text(0.5, 1.0, 'Degree Vs Satisfaction with Life'),\n",
       " Text(0.5, 0, 'Satisfaction with Life')]"
      ]
     },
     "execution_count": 59,
     "metadata": {},
     "output_type": "execute_result"
    },
    {
     "data": {
      "image/png": "[encoded data removed]",
      "text/plain": [
       "<Figure size 432x288 with 1 Axes>"
      ]
     },
     "metadata": {
      "needs_background": "light"
     },
     "output_type": "display_data"
    }
   ],
   "source": [
    "sns.violinplot(x=data.SWL_T, y=data.Degree, data=data).set(title='Degree Vs Satisfaction with Life',xlabel= 'Satisfaction with Life')"
   ]
  },
  {
   "cell_type": "markdown",
   "id": "33bcaa64",
   "metadata": {},
   "source": [
    "## SWL_T vs Age"
   ]
  },
  {
   "cell_type": "code",
   "execution_count": 60,
   "id": "9a8e8cfb",
   "metadata": {},
   "outputs": [
    {
     "data": {
      "text/plain": [
       "[Text(0.5, 1.0, 'Age Vs Satisfaction with Life'),\n",
       " Text(0.5, 0, 'Satisfaction with Life')]"
      ]
     },
     "execution_count": 60,
     "metadata": {},
     "output_type": "execute_result"
    },
    {
     "data": {
      "image/png": "[encoded data removed]",
      "text/plain": [
       "<Figure size 432x288 with 1 Axes>"
      ]
     },
     "metadata": {
      "needs_background": "light"
     },
     "output_type": "display_data"
    }
   ],
   "source": [
    "sns.boxplot(x=data.SWL_T, y=data.Age_Group, data=data).set(title='Age Vs Satisfaction with Life',xlabel= 'Satisfaction with Life')"
   ]
  },
  {
   "cell_type": "markdown",
   "id": "a4019174",
   "metadata": {},
   "source": [
    "## SWL_T vs Hours_played"
   ]
  },
  {
   "cell_type": "code",
   "execution_count": 62,
   "id": "3505d365",
   "metadata": {},
   "outputs": [
    {
     "data": {
      "text/plain": [
       "[Text(0.5, 1.0, 'Hours Played Vs Satisfaction with Life'),\n",
       " Text(0.5, 0, 'Satisfaction with Life')]"
      ]
     },
     "execution_count": 62,
     "metadata": {},
     "output_type": "execute_result"
    },
    {
     "data": {
      "image/png": "[encoded data removed]",
      "text/plain": [
       "<Figure size 432x288 with 1 Axes>"
      ]
     },
     "metadata": {
      "needs_background": "light"
     },
     "output_type": "display_data"
    }
   ],
   "source": [
    "sns.boxplot(x=data.SWL_T, y=data.Hours_Grouped, data=data).set(title='Hours Played Vs Satisfaction with Life',xlabel= 'Satisfaction with Life')"
   ]
  },
  {
   "cell_type": "markdown",
   "id": "1d55883d",
   "metadata": {},
   "source": [
    "## SWL_T vs Play_Style"
   ]
  },
  {
   "cell_type": "code",
   "execution_count": 64,
   "id": "9c3d0d19",
   "metadata": {},
   "outputs": [
    {
     "data": {
      "text/plain": [
       "[Text(0.5, 1.0, 'PlayStyle Vs Satisfaction with Life'),\n",
       " Text(0.5, 0, 'Satisfaction with Life')]"
      ]
     },
     "execution_count": 64,
     "metadata": {},
     "output_type": "execute_result"
    },
    {
     "data": {
      "image/png": "[encoded data removed]",
      "text/plain": [
       "<Figure size 432x288 with 1 Axes>"
      ]
     },
     "metadata": {
      "needs_background": "light"
     },
     "output_type": "display_data"
    }
   ],
   "source": [
    "sns.boxplot(x=data.SWL_T, y=data.Play_Style, data=data).set(title='PlayStyle Vs Satisfaction with Life',xlabel= 'Satisfaction with Life')"
   ]
  },
  {
   "cell_type": "markdown",
   "id": "07d8ee13",
   "metadata": {},
   "source": [
    "# Social Phobia Inventory ( SPIN_T )"
   ]
  },
  {
   "cell_type": "code",
   "execution_count": 82,
   "id": "82f1adb3",
   "metadata": {},
   "outputs": [
    {
     "data": {
      "text/plain": [
       "Text(0, 0.5, 'Count')"
      ]
     },
     "execution_count": 82,
     "metadata": {},
     "output_type": "execute_result"
    },
    {
     "data": {
      "image/png": "[encoded data removed]",
      "text/plain": [
       "<Figure size 432x288 with 1 Axes>"
      ]
     },
     "metadata": {
      "needs_background": "light"
     },
     "output_type": "display_data"
    }
   ],
   "source": [
    "from scipy.stats import norm\n",
    "plt.hist(games.SPIN_T, bins=10, rwidth=0.8)\n",
    "plt.xlabel('SPIN_T')\n",
    "plt.ylabel('Count')"
   ]
  },
  {
   "cell_type": "markdown",
   "id": "02f293a6",
   "metadata": {},
   "source": [
    "#### We can see from the plot that this variable is 'Unimodal' and 'Right-Skewed' distribution. "
   ]
  },
  {
   "cell_type": "code",
   "execution_count": 84,
   "id": "9c0a0c60",
   "metadata": {},
   "outputs": [
    {
     "name": "stdout",
     "output_type": "stream",
     "text": [
      "0\n"
     ]
    }
   ],
   "source": [
    "print(data['SPIN_T'].isnull().sum())"
   ]
  },
  {
   "cell_type": "code",
   "execution_count": 67,
   "id": "2339274d",
   "metadata": {},
   "outputs": [
    {
     "data": {
      "text/plain": [
       "<AxesSubplot:xlabel='SPIN_T'>"
      ]
     },
     "execution_count": 67,
     "metadata": {},
     "output_type": "execute_result"
    },
    {
     "data": {
      "image/png": "[encoded data removed]",
      "text/plain": [
       "<Figure size 432x288 with 1 Axes>"
      ]
     },
     "metadata": {
      "needs_background": "light"
     },
     "output_type": "display_data"
    }
   ],
   "source": [
    "sns.boxplot(x=data.SPIN_T, data=data)"
   ]
  },
  {
   "cell_type": "markdown",
   "id": "e7a3aaf5",
   "metadata": {},
   "source": [
    "#### From the boxplot we can see that there are few outliers."
   ]
  },
  {
   "cell_type": "code",
   "execution_count": 69,
   "id": "a81e0885",
   "metadata": {},
   "outputs": [
    {
     "name": "stdout",
     "output_type": "stream",
     "text": [
      "56.5\n"
     ]
    }
   ],
   "source": [
    "Q1=data.SPIN_T.quantile(0.25)\n",
    "Q3=data.SPIN_T.quantile(0.75)\n",
    "IQR=Q3-Q1\n",
    "\n",
    "\n",
    "Outliers = Q3 + 1.5*IQR\n",
    "\n",
    "print(Outliers)\n"
   ]
  },
  {
   "cell_type": "markdown",
   "id": "003a3fa1",
   "metadata": {},
   "source": [
    "### As, we can see from the boxplot there are several outliers in the \"SPIN_T\" variable but for our analysis we will not be considering these as outliers becasue these are within the permitted range."
   ]
  },
  {
   "cell_type": "markdown",
   "id": "10ddd2da",
   "metadata": {},
   "source": [
    "## Relationship between two variables"
   ]
  },
  {
   "cell_type": "markdown",
   "id": "49af6a66",
   "metadata": {},
   "source": [
    "### SPIN_T vs Work"
   ]
  },
  {
   "cell_type": "code",
   "execution_count": 66,
   "id": "54c1aa35",
   "metadata": {},
   "outputs": [
    {
     "data": {
      "text/plain": [
       "[Text(0.5, 1.0, 'Work Vs Social Phobia Inventory'),\n",
       " Text(0.5, 0, 'Social Phobia Inventory')]"
      ]
     },
     "execution_count": 66,
     "metadata": {},
     "output_type": "execute_result"
    },
    {
     "data": {
      "image/png": "[encoded data removed]",
      "text/plain": [
       "<Figure size 432x288 with 1 Axes>"
      ]
     },
     "metadata": {
      "needs_background": "light"
     },
     "output_type": "display_data"
    }
   ],
   "source": [
    "sns.violinplot(x=data.SPIN_T, y=data.Work, data=data).set(title='Work Vs Social Phobia Inventory',xlabel= 'Social Phobia Inventory')"
   ]
  },
  {
   "cell_type": "markdown",
   "id": "d70b8cc0",
   "metadata": {},
   "source": [
    "### SPIN_T vs Degree"
   ]
  },
  {
   "cell_type": "code",
   "execution_count": 67,
   "id": "b20dc3d3",
   "metadata": {},
   "outputs": [
    {
     "data": {
      "text/plain": [
       "[Text(0.5, 1.0, 'Degree Vs Social Phobia Inventory'),\n",
       " Text(0.5, 0, 'Social Phobia Inventory')]"
      ]
     },
     "execution_count": 67,
     "metadata": {},
     "output_type": "execute_result"
    },
    {
     "data": {
      "image/png": "[encoded data removed]",
      "text/plain": [
       "<Figure size 432x288 with 1 Axes>"
      ]
     },
     "metadata": {
      "needs_background": "light"
     },
     "output_type": "display_data"
    }
   ],
   "source": [
    "sns.violinplot(x=data.SPIN_T, y=data.Degree, data=data).set(title='Degree Vs Social Phobia Inventory',xlabel= 'Social Phobia Inventory')"
   ]
  },
  {
   "cell_type": "markdown",
   "id": "05f7f120",
   "metadata": {},
   "source": [
    "### SPIN_T vs Age_Group"
   ]
  },
  {
   "cell_type": "code",
   "execution_count": 68,
   "id": "01c03452",
   "metadata": {},
   "outputs": [
    {
     "data": {
      "text/plain": [
       "[Text(0.5, 1.0, 'Age Group Vs Social Phobia Inventory'),\n",
       " Text(0.5, 0, 'Social Phobia Inventory')]"
      ]
     },
     "execution_count": 68,
     "metadata": {},
     "output_type": "execute_result"
    },
    {
     "data": {
      "image/png": "[encoded data removed]",
      "text/plain": [
       "<Figure size 432x288 with 1 Axes>"
      ]
     },
     "metadata": {
      "needs_background": "light"
     },
     "output_type": "display_data"
    }
   ],
   "source": [
    "sns.boxplot(x=data.SPIN_T, y=data.Age_Group, data=data).set(title='Age Group Vs Social Phobia Inventory',xlabel= 'Social Phobia Inventory')"
   ]
  },
  {
   "cell_type": "markdown",
   "id": "21c918e9",
   "metadata": {},
   "source": [
    "### SPIN_T vs Hours_Group"
   ]
  },
  {
   "cell_type": "code",
   "execution_count": 69,
   "id": "c61bbd35",
   "metadata": {},
   "outputs": [
    {
     "data": {
      "text/plain": [
       "[Text(0.5, 1.0, 'Hours Played Vs Social Phobia Inventory'),\n",
       " Text(0.5, 0, 'Social Phobia Inventory')]"
      ]
     },
     "execution_count": 69,
     "metadata": {},
     "output_type": "execute_result"
    },
    {
     "data": {
      "image/png": "[encoded data removed]",
      "text/plain": [
       "<Figure size 432x288 with 1 Axes>"
      ]
     },
     "metadata": {
      "needs_background": "light"
     },
     "output_type": "display_data"
    }
   ],
   "source": [
    "sns.boxplot(x=data.SPIN_T, y=data.Hours_Grouped, data=data).set(title='Hours Played Vs Social Phobia Inventory',xlabel= 'Social Phobia Inventory')"
   ]
  },
  {
   "cell_type": "markdown",
   "id": "66df983e",
   "metadata": {},
   "source": [
    "## SPIN_T vs Playstyle"
   ]
  },
  {
   "cell_type": "code",
   "execution_count": 70,
   "id": "efe1b669",
   "metadata": {},
   "outputs": [
    {
     "data": {
      "text/plain": [
       "[Text(0.5, 1.0, 'PlayStyle Vs Social Phobia Inventory'),\n",
       " Text(0.5, 0, 'Social Phobia Inventory')]"
      ]
     },
     "execution_count": 70,
     "metadata": {},
     "output_type": "execute_result"
    },
    {
     "data": {
      "image/png": "[encoded data removed]",
      "text/plain": [
       "<Figure size 432x288 with 1 Axes>"
      ]
     },
     "metadata": {
      "needs_background": "light"
     },
     "output_type": "display_data"
    }
   ],
   "source": [
    "sns.boxplot(x=data.SPIN_T, y=data.Play_Style, data=data).set(title='PlayStyle Vs Social Phobia Inventory',xlabel= 'Social Phobia Inventory')"
   ]
  },
  {
   "cell_type": "code",
   "execution_count": null,
   "id": "e2693d7a",
   "metadata": {},
   "outputs": [],
   "source": []
  }
 ],
 "metadata": {
  "kernelspec": {
   "display_name": "Python 3",
   "language": "python",
   "name": "python3"
  },
  "language_info": {
   "codemirror_mode": {
    "name": "ipython",
    "version": 3
   },
   "file_extension": ".py",
   "mimetype": "text/x-python",
   "name": "python",
   "nbconvert_exporter": "python",
   "pygments_lexer": "ipython3",
   "version": "3.7.10"
  }
 },
 "nbformat": 4,
 "nbformat_minor": 5
}
